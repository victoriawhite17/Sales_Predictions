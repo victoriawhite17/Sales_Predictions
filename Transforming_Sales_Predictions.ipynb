{
  "nbformat": 4,
  "nbformat_minor": 0,
  "metadata": {
    "colab": {
      "name": "Transforming_Sales_Predictions.ipynb",
      "provenance": [],
      "collapsed_sections": [],
      "authorship_tag": "ABX9TyOelQoSjEn/GZYONveIyHhs",
      "include_colab_link": true
    },
    "kernelspec": {
      "name": "python3",
      "display_name": "Python 3"
    },
    "language_info": {
      "name": "python"
    }
  },
  "cells": [
    {
      "cell_type": "markdown",
      "metadata": {
        "id": "view-in-github",
        "colab_type": "text"
      },
      "source": [
        "<a href=\"https://colab.research.google.com/github/victoriawhite17/Sales_Predictions/blob/main/Transforming_Sales_Predictions.ipynb\" target=\"_parent\"><img src=\"https://colab.research.google.com/assets/colab-badge.svg\" alt=\"Open In Colab\"/></a>"
      ]
    },
    {
      "cell_type": "markdown",
      "source": [
        "#Sales Predictions\n",
        "- Victoria White\n",
        "- 17 August 2022"
      ],
      "metadata": {
        "id": "F79I8eESo849"
      }
    },
    {
      "cell_type": "code",
      "execution_count": 35,
      "metadata": {
        "colab": {
          "base_uri": "https://localhost:8080/"
        },
        "id": "2sVc3O_FhJgo",
        "outputId": "23efa84f-2e08-405e-e85e-ac4fbc7f8a13"
      },
      "outputs": [
        {
          "output_type": "stream",
          "name": "stdout",
          "text": [
            "Drive already mounted at /content/drive; to attempt to forcibly remount, call drive.mount(\"/content/drive\", force_remount=True).\n"
          ]
        }
      ],
      "source": [
        "import pandas as pd\n",
        "import numpy as np\n",
        "from sklearn.model_selection import train_test_split\n",
        "from sklearn.compose import make_column_selector, make_column_transformer\n",
        "from sklearn.metrics import mean_absolute_error, mean_squared_error, r2_score\n",
        "from sklearn.impute import SimpleImputer\n",
        "from sklearn.pipeline import make_pipeline\n",
        "from sklearn import set_config\n",
        "set_config(display='diagram')\n",
        "from sklearn.preprocessing import StandardScaler, OneHotEncoder\n",
        "\n",
        "from google.colab import drive\n",
        "drive.mount('/content/drive')"
      ]
    },
    {
      "cell_type": "code",
      "source": [
        "df = pd.read_csv('https://docs.google.com/spreadsheets/d/e/2PACX-1vTm38yOK7rXwn_p6FXOnqmqh_Wbq_C1RrpevFVocGFoK7d7cCqW80-yQwpQMP0t-H7Cei94Wo0E8cEO/pub?gid=1919646656&single=true&output=csv')"
      ],
      "metadata": {
        "id": "U2SD60pphZL4"
      },
      "execution_count": 2,
      "outputs": []
    },
    {
      "cell_type": "code",
      "source": [
        "df.head()"
      ],
      "metadata": {
        "colab": {
          "base_uri": "https://localhost:8080/",
          "height": 206
        },
        "id": "KXZbq7J7JxBN",
        "outputId": "64261d6b-74f5-4b59-9c3f-0327d1347c6e"
      },
      "execution_count": 3,
      "outputs": [
        {
          "output_type": "execute_result",
          "data": {
            "text/plain": [
              "  Item_Identifier  Item_Weight Item_Fat_Content  Item_Visibility  \\\n",
              "0           FDA15         9.30          Low Fat         0.016047   \n",
              "1           DRC01         5.92          Regular         0.019278   \n",
              "2           FDN15        17.50          Low Fat         0.016760   \n",
              "3           FDX07        19.20          Regular         0.000000   \n",
              "4           NCD19         8.93          Low Fat         0.000000   \n",
              "\n",
              "               Item_Type  Item_MRP Outlet_Identifier  \\\n",
              "0                  Dairy  249.8092            OUT049   \n",
              "1            Soft Drinks   48.2692            OUT018   \n",
              "2                   Meat  141.6180            OUT049   \n",
              "3  Fruits and Vegetables  182.0950            OUT010   \n",
              "4              Household   53.8614            OUT013   \n",
              "\n",
              "   Outlet_Establishment_Year Outlet_Size Outlet_Location_Type  \\\n",
              "0                       1999      Medium               Tier 1   \n",
              "1                       2009      Medium               Tier 3   \n",
              "2                       1999      Medium               Tier 1   \n",
              "3                       1998         NaN               Tier 3   \n",
              "4                       1987        High               Tier 3   \n",
              "\n",
              "         Outlet_Type  Item_Outlet_Sales  \n",
              "0  Supermarket Type1          3735.1380  \n",
              "1  Supermarket Type2           443.4228  \n",
              "2  Supermarket Type1          2097.2700  \n",
              "3      Grocery Store           732.3800  \n",
              "4  Supermarket Type1           994.7052  "
            ],
            "text/html": [
              "\n",
              "  <div id=\"df-7fb3d61d-d515-4c87-a1a6-a45e88cc297b\">\n",
              "    <div class=\"colab-df-container\">\n",
              "      <div>\n",
              "<style scoped>\n",
              "    .dataframe tbody tr th:only-of-type {\n",
              "        vertical-align: middle;\n",
              "    }\n",
              "\n",
              "    .dataframe tbody tr th {\n",
              "        vertical-align: top;\n",
              "    }\n",
              "\n",
              "    .dataframe thead th {\n",
              "        text-align: right;\n",
              "    }\n",
              "</style>\n",
              "<table border=\"1\" class=\"dataframe\">\n",
              "  <thead>\n",
              "    <tr style=\"text-align: right;\">\n",
              "      <th></th>\n",
              "      <th>Item_Identifier</th>\n",
              "      <th>Item_Weight</th>\n",
              "      <th>Item_Fat_Content</th>\n",
              "      <th>Item_Visibility</th>\n",
              "      <th>Item_Type</th>\n",
              "      <th>Item_MRP</th>\n",
              "      <th>Outlet_Identifier</th>\n",
              "      <th>Outlet_Establishment_Year</th>\n",
              "      <th>Outlet_Size</th>\n",
              "      <th>Outlet_Location_Type</th>\n",
              "      <th>Outlet_Type</th>\n",
              "      <th>Item_Outlet_Sales</th>\n",
              "    </tr>\n",
              "  </thead>\n",
              "  <tbody>\n",
              "    <tr>\n",
              "      <th>0</th>\n",
              "      <td>FDA15</td>\n",
              "      <td>9.30</td>\n",
              "      <td>Low Fat</td>\n",
              "      <td>0.016047</td>\n",
              "      <td>Dairy</td>\n",
              "      <td>249.8092</td>\n",
              "      <td>OUT049</td>\n",
              "      <td>1999</td>\n",
              "      <td>Medium</td>\n",
              "      <td>Tier 1</td>\n",
              "      <td>Supermarket Type1</td>\n",
              "      <td>3735.1380</td>\n",
              "    </tr>\n",
              "    <tr>\n",
              "      <th>1</th>\n",
              "      <td>DRC01</td>\n",
              "      <td>5.92</td>\n",
              "      <td>Regular</td>\n",
              "      <td>0.019278</td>\n",
              "      <td>Soft Drinks</td>\n",
              "      <td>48.2692</td>\n",
              "      <td>OUT018</td>\n",
              "      <td>2009</td>\n",
              "      <td>Medium</td>\n",
              "      <td>Tier 3</td>\n",
              "      <td>Supermarket Type2</td>\n",
              "      <td>443.4228</td>\n",
              "    </tr>\n",
              "    <tr>\n",
              "      <th>2</th>\n",
              "      <td>FDN15</td>\n",
              "      <td>17.50</td>\n",
              "      <td>Low Fat</td>\n",
              "      <td>0.016760</td>\n",
              "      <td>Meat</td>\n",
              "      <td>141.6180</td>\n",
              "      <td>OUT049</td>\n",
              "      <td>1999</td>\n",
              "      <td>Medium</td>\n",
              "      <td>Tier 1</td>\n",
              "      <td>Supermarket Type1</td>\n",
              "      <td>2097.2700</td>\n",
              "    </tr>\n",
              "    <tr>\n",
              "      <th>3</th>\n",
              "      <td>FDX07</td>\n",
              "      <td>19.20</td>\n",
              "      <td>Regular</td>\n",
              "      <td>0.000000</td>\n",
              "      <td>Fruits and Vegetables</td>\n",
              "      <td>182.0950</td>\n",
              "      <td>OUT010</td>\n",
              "      <td>1998</td>\n",
              "      <td>NaN</td>\n",
              "      <td>Tier 3</td>\n",
              "      <td>Grocery Store</td>\n",
              "      <td>732.3800</td>\n",
              "    </tr>\n",
              "    <tr>\n",
              "      <th>4</th>\n",
              "      <td>NCD19</td>\n",
              "      <td>8.93</td>\n",
              "      <td>Low Fat</td>\n",
              "      <td>0.000000</td>\n",
              "      <td>Household</td>\n",
              "      <td>53.8614</td>\n",
              "      <td>OUT013</td>\n",
              "      <td>1987</td>\n",
              "      <td>High</td>\n",
              "      <td>Tier 3</td>\n",
              "      <td>Supermarket Type1</td>\n",
              "      <td>994.7052</td>\n",
              "    </tr>\n",
              "  </tbody>\n",
              "</table>\n",
              "</div>\n",
              "      <button class=\"colab-df-convert\" onclick=\"convertToInteractive('df-7fb3d61d-d515-4c87-a1a6-a45e88cc297b')\"\n",
              "              title=\"Convert this dataframe to an interactive table.\"\n",
              "              style=\"display:none;\">\n",
              "        \n",
              "  <svg xmlns=\"http://www.w3.org/2000/svg\" height=\"24px\"viewBox=\"0 0 24 24\"\n",
              "       width=\"24px\">\n",
              "    <path d=\"M0 0h24v24H0V0z\" fill=\"none\"/>\n",
              "    <path d=\"M18.56 5.44l.94 2.06.94-2.06 2.06-.94-2.06-.94-.94-2.06-.94 2.06-2.06.94zm-11 1L8.5 8.5l.94-2.06 2.06-.94-2.06-.94L8.5 2.5l-.94 2.06-2.06.94zm10 10l.94 2.06.94-2.06 2.06-.94-2.06-.94-.94-2.06-.94 2.06-2.06.94z\"/><path d=\"M17.41 7.96l-1.37-1.37c-.4-.4-.92-.59-1.43-.59-.52 0-1.04.2-1.43.59L10.3 9.45l-7.72 7.72c-.78.78-.78 2.05 0 2.83L4 21.41c.39.39.9.59 1.41.59.51 0 1.02-.2 1.41-.59l7.78-7.78 2.81-2.81c.8-.78.8-2.07 0-2.86zM5.41 20L4 18.59l7.72-7.72 1.47 1.35L5.41 20z\"/>\n",
              "  </svg>\n",
              "      </button>\n",
              "      \n",
              "  <style>\n",
              "    .colab-df-container {\n",
              "      display:flex;\n",
              "      flex-wrap:wrap;\n",
              "      gap: 12px;\n",
              "    }\n",
              "\n",
              "    .colab-df-convert {\n",
              "      background-color: #E8F0FE;\n",
              "      border: none;\n",
              "      border-radius: 50%;\n",
              "      cursor: pointer;\n",
              "      display: none;\n",
              "      fill: #1967D2;\n",
              "      height: 32px;\n",
              "      padding: 0 0 0 0;\n",
              "      width: 32px;\n",
              "    }\n",
              "\n",
              "    .colab-df-convert:hover {\n",
              "      background-color: #E2EBFA;\n",
              "      box-shadow: 0px 1px 2px rgba(60, 64, 67, 0.3), 0px 1px 3px 1px rgba(60, 64, 67, 0.15);\n",
              "      fill: #174EA6;\n",
              "    }\n",
              "\n",
              "    [theme=dark] .colab-df-convert {\n",
              "      background-color: #3B4455;\n",
              "      fill: #D2E3FC;\n",
              "    }\n",
              "\n",
              "    [theme=dark] .colab-df-convert:hover {\n",
              "      background-color: #434B5C;\n",
              "      box-shadow: 0px 1px 3px 1px rgba(0, 0, 0, 0.15);\n",
              "      filter: drop-shadow(0px 1px 2px rgba(0, 0, 0, 0.3));\n",
              "      fill: #FFFFFF;\n",
              "    }\n",
              "  </style>\n",
              "\n",
              "      <script>\n",
              "        const buttonEl =\n",
              "          document.querySelector('#df-7fb3d61d-d515-4c87-a1a6-a45e88cc297b button.colab-df-convert');\n",
              "        buttonEl.style.display =\n",
              "          google.colab.kernel.accessAllowed ? 'block' : 'none';\n",
              "\n",
              "        async function convertToInteractive(key) {\n",
              "          const element = document.querySelector('#df-7fb3d61d-d515-4c87-a1a6-a45e88cc297b');\n",
              "          const dataTable =\n",
              "            await google.colab.kernel.invokeFunction('convertToInteractive',\n",
              "                                                     [key], {});\n",
              "          if (!dataTable) return;\n",
              "\n",
              "          const docLinkHtml = 'Like what you see? Visit the ' +\n",
              "            '<a target=\"_blank\" href=https://colab.research.google.com/notebooks/data_table.ipynb>data table notebook</a>'\n",
              "            + ' to learn more about interactive tables.';\n",
              "          element.innerHTML = '';\n",
              "          dataTable['output_type'] = 'display_data';\n",
              "          await google.colab.output.renderOutput(dataTable, element);\n",
              "          const docLink = document.createElement('div');\n",
              "          docLink.innerHTML = docLinkHtml;\n",
              "          element.appendChild(docLink);\n",
              "        }\n",
              "      </script>\n",
              "    </div>\n",
              "  </div>\n",
              "  "
            ]
          },
          "metadata": {},
          "execution_count": 3
        }
      ]
    },
    {
      "cell_type": "code",
      "source": [
        "ml_df = df.copy()"
      ],
      "metadata": {
        "id": "P-6UjVaaJyhH"
      },
      "execution_count": 4,
      "outputs": []
    },
    {
      "cell_type": "code",
      "source": [
        "df.duplicated().sum()"
      ],
      "metadata": {
        "colab": {
          "base_uri": "https://localhost:8080/"
        },
        "id": "tG2A_S5eIyMD",
        "outputId": "f25c6f6b-fcf5-460e-fb3d-d49421eef7c9"
      },
      "execution_count": 5,
      "outputs": [
        {
          "output_type": "execute_result",
          "data": {
            "text/plain": [
              "0"
            ]
          },
          "metadata": {},
          "execution_count": 5
        }
      ]
    },
    {
      "cell_type": "code",
      "source": [
        "df.isna().sum()\n",
        "#there is some missing data. We will drop the item weight column since it's not necessary for this data set and we will address the missing outlet sizes after the split."
      ],
      "metadata": {
        "colab": {
          "base_uri": "https://localhost:8080/"
        },
        "id": "O7FkvcS9JC3j",
        "outputId": "fd3df924-21b5-4974-c2aa-93c778f80560"
      },
      "execution_count": 6,
      "outputs": [
        {
          "output_type": "execute_result",
          "data": {
            "text/plain": [
              "Item_Identifier                 0\n",
              "Item_Weight                  1463\n",
              "Item_Fat_Content                0\n",
              "Item_Visibility                 0\n",
              "Item_Type                       0\n",
              "Item_MRP                        0\n",
              "Outlet_Identifier               0\n",
              "Outlet_Establishment_Year       0\n",
              "Outlet_Size                  2410\n",
              "Outlet_Location_Type            0\n",
              "Outlet_Type                     0\n",
              "Item_Outlet_Sales               0\n",
              "dtype: int64"
            ]
          },
          "metadata": {},
          "execution_count": 6
        }
      ]
    },
    {
      "cell_type": "markdown",
      "source": [
        "##Data Exploration"
      ],
      "metadata": {
        "id": "Sj0BxZtYZG5P"
      }
    },
    {
      "cell_type": "code",
      "source": [
        "#checking unique values\n",
        "df.nunique()"
      ],
      "metadata": {
        "colab": {
          "base_uri": "https://localhost:8080/"
        },
        "id": "iB_E1dYRh4F3",
        "outputId": "31522b14-b073-4b30-c8f7-0ccf20531458"
      },
      "execution_count": 7,
      "outputs": [
        {
          "output_type": "execute_result",
          "data": {
            "text/plain": [
              "Item_Identifier              1559\n",
              "Item_Weight                   415\n",
              "Item_Fat_Content                5\n",
              "Item_Visibility              7880\n",
              "Item_Type                      16\n",
              "Item_MRP                     5938\n",
              "Outlet_Identifier              10\n",
              "Outlet_Establishment_Year       9\n",
              "Outlet_Size                     3\n",
              "Outlet_Location_Type            3\n",
              "Outlet_Type                     4\n",
              "Item_Outlet_Sales            3493\n",
              "dtype: int64"
            ]
          },
          "metadata": {},
          "execution_count": 7
        }
      ]
    },
    {
      "cell_type": "code",
      "source": [
        "df['Item_Fat_Content'].unique()"
      ],
      "metadata": {
        "colab": {
          "base_uri": "https://localhost:8080/"
        },
        "id": "E2pvaZVviiMF",
        "outputId": "90d6ddb1-1622-48a4-b80c-e9f8596bec22"
      },
      "execution_count": 8,
      "outputs": [
        {
          "output_type": "execute_result",
          "data": {
            "text/plain": [
              "array(['Low Fat', 'Regular', 'low fat', 'LF', 'reg'], dtype=object)"
            ]
          },
          "metadata": {},
          "execution_count": 8
        }
      ]
    },
    {
      "cell_type": "code",
      "source": [
        "#correcting unique values\n",
        "df['Item_Fat_Content'].replace({'low fat':'Low Fat', 'LF':'Low Fat','reg':'Regular'}, inplace=True)"
      ],
      "metadata": {
        "id": "vUzm58QEjir5"
      },
      "execution_count": 9,
      "outputs": []
    },
    {
      "cell_type": "code",
      "source": [
        "df['Item_Fat_Content'].unique()"
      ],
      "metadata": {
        "colab": {
          "base_uri": "https://localhost:8080/"
        },
        "id": "UheWKlgDjoAg",
        "outputId": "bfc3cc9b-6b08-4fac-b09f-cbd058575323"
      },
      "execution_count": 10,
      "outputs": [
        {
          "output_type": "execute_result",
          "data": {
            "text/plain": [
              "array(['Low Fat', 'Regular'], dtype=object)"
            ]
          },
          "metadata": {},
          "execution_count": 10
        }
      ]
    },
    {
      "cell_type": "code",
      "source": [
        "X = df.drop(columns=['Item_Identifier', 'Item_Weight', 'Outlet_Identifier', 'Item_Outlet_Sales'])\n",
        "y = df['Item_Outlet_Sales']"
      ],
      "metadata": {
        "id": "DY5pmhpqj15R"
      },
      "execution_count": 11,
      "outputs": []
    },
    {
      "cell_type": "markdown",
      "source": [
        "##Train Test Split"
      ],
      "metadata": {
        "id": "nzJ0e2wqZW0b"
      }
    },
    {
      "cell_type": "code",
      "source": [
        "X_train, X_test, y_train, y_test = train_test_split(X, y, random_state=42)\n",
        "display(X_train.info())\n",
        "#nominal features are item type, location type, outlet type, and item fat content\n",
        "#numerical features are item visibility, item establishment year, and item mrp\n",
        "#orindal features are outlet location type, and outlet size"
      ],
      "metadata": {
        "colab": {
          "base_uri": "https://localhost:8080/",
          "height": 318
        },
        "id": "DTx6j94nkoIn",
        "outputId": "580fdbf4-016a-4a10-cd5a-898b89498d48"
      },
      "execution_count": 12,
      "outputs": [
        {
          "output_type": "stream",
          "name": "stdout",
          "text": [
            "<class 'pandas.core.frame.DataFrame'>\n",
            "Int64Index: 6392 entries, 4776 to 7270\n",
            "Data columns (total 8 columns):\n",
            " #   Column                     Non-Null Count  Dtype  \n",
            "---  ------                     --------------  -----  \n",
            " 0   Item_Fat_Content           6392 non-null   object \n",
            " 1   Item_Visibility            6392 non-null   float64\n",
            " 2   Item_Type                  6392 non-null   object \n",
            " 3   Item_MRP                   6392 non-null   float64\n",
            " 4   Outlet_Establishment_Year  6392 non-null   int64  \n",
            " 5   Outlet_Size                4580 non-null   object \n",
            " 6   Outlet_Location_Type       6392 non-null   object \n",
            " 7   Outlet_Type                6392 non-null   object \n",
            "dtypes: float64(2), int64(1), object(5)\n",
            "memory usage: 449.4+ KB\n"
          ]
        },
        {
          "output_type": "display_data",
          "data": {
            "text/plain": [
              "None"
            ]
          },
          "metadata": {}
        }
      ]
    },
    {
      "cell_type": "markdown",
      "source": [
        "##Data Cleaning"
      ],
      "metadata": {
        "id": "UFn1MTHacMB_"
      }
    },
    {
      "cell_type": "code",
      "source": [
        "#instantiating column selectors\n",
        "cat_selector = make_column_selector(dtype_include='object')\n",
        "num_selector = make_column_selector(dtype_include='number')"
      ],
      "metadata": {
        "id": "ZoSvIcBGmZcS"
      },
      "execution_count": 13,
      "outputs": []
    },
    {
      "cell_type": "code",
      "source": [
        "#instantiating transformers\n",
        "freq_imputer = SimpleImputer(strategy='most_frequent')\n",
        "mean_imputer = SimpleImputer(strategy='mean')\n",
        "scaler = StandardScaler()\n",
        "ohe = OneHotEncoder(handle_unknown='ignore', sparse=False)"
      ],
      "metadata": {
        "id": "f74RhXw-m4Fi"
      },
      "execution_count": 14,
      "outputs": []
    },
    {
      "cell_type": "code",
      "source": [
        "#instantiating pipeline for numerical features\n",
        "num_pipe = make_pipeline(mean_imputer, scaler)\n",
        "num_pipe"
      ],
      "metadata": {
        "colab": {
          "base_uri": "https://localhost:8080/",
          "height": 129
        },
        "id": "Xdy45kT2nWwg",
        "outputId": "4b4146f0-51f6-4954-e8a8-9dd3e855d8b2"
      },
      "execution_count": 15,
      "outputs": [
        {
          "output_type": "execute_result",
          "data": {
            "text/plain": [
              "Pipeline(steps=[('simpleimputer', SimpleImputer()),\n",
              "                ('standardscaler', StandardScaler())])"
            ],
            "text/html": [
              "<style>#sk-478edcd5-0a44-4e61-b3c7-d36c96fbe92c {color: black;background-color: white;}#sk-478edcd5-0a44-4e61-b3c7-d36c96fbe92c pre{padding: 0;}#sk-478edcd5-0a44-4e61-b3c7-d36c96fbe92c div.sk-toggleable {background-color: white;}#sk-478edcd5-0a44-4e61-b3c7-d36c96fbe92c label.sk-toggleable__label {cursor: pointer;display: block;width: 100%;margin-bottom: 0;padding: 0.3em;box-sizing: border-box;text-align: center;}#sk-478edcd5-0a44-4e61-b3c7-d36c96fbe92c label.sk-toggleable__label-arrow:before {content: \"▸\";float: left;margin-right: 0.25em;color: #696969;}#sk-478edcd5-0a44-4e61-b3c7-d36c96fbe92c label.sk-toggleable__label-arrow:hover:before {color: black;}#sk-478edcd5-0a44-4e61-b3c7-d36c96fbe92c div.sk-estimator:hover label.sk-toggleable__label-arrow:before {color: black;}#sk-478edcd5-0a44-4e61-b3c7-d36c96fbe92c div.sk-toggleable__content {max-height: 0;max-width: 0;overflow: hidden;text-align: left;background-color: #f0f8ff;}#sk-478edcd5-0a44-4e61-b3c7-d36c96fbe92c div.sk-toggleable__content pre {margin: 0.2em;color: black;border-radius: 0.25em;background-color: #f0f8ff;}#sk-478edcd5-0a44-4e61-b3c7-d36c96fbe92c input.sk-toggleable__control:checked~div.sk-toggleable__content {max-height: 200px;max-width: 100%;overflow: auto;}#sk-478edcd5-0a44-4e61-b3c7-d36c96fbe92c input.sk-toggleable__control:checked~label.sk-toggleable__label-arrow:before {content: \"▾\";}#sk-478edcd5-0a44-4e61-b3c7-d36c96fbe92c div.sk-estimator input.sk-toggleable__control:checked~label.sk-toggleable__label {background-color: #d4ebff;}#sk-478edcd5-0a44-4e61-b3c7-d36c96fbe92c div.sk-label input.sk-toggleable__control:checked~label.sk-toggleable__label {background-color: #d4ebff;}#sk-478edcd5-0a44-4e61-b3c7-d36c96fbe92c input.sk-hidden--visually {border: 0;clip: rect(1px 1px 1px 1px);clip: rect(1px, 1px, 1px, 1px);height: 1px;margin: -1px;overflow: hidden;padding: 0;position: absolute;width: 1px;}#sk-478edcd5-0a44-4e61-b3c7-d36c96fbe92c div.sk-estimator {font-family: monospace;background-color: #f0f8ff;border: 1px dotted black;border-radius: 0.25em;box-sizing: border-box;margin-bottom: 0.5em;}#sk-478edcd5-0a44-4e61-b3c7-d36c96fbe92c div.sk-estimator:hover {background-color: #d4ebff;}#sk-478edcd5-0a44-4e61-b3c7-d36c96fbe92c div.sk-parallel-item::after {content: \"\";width: 100%;border-bottom: 1px solid gray;flex-grow: 1;}#sk-478edcd5-0a44-4e61-b3c7-d36c96fbe92c div.sk-label:hover label.sk-toggleable__label {background-color: #d4ebff;}#sk-478edcd5-0a44-4e61-b3c7-d36c96fbe92c div.sk-serial::before {content: \"\";position: absolute;border-left: 1px solid gray;box-sizing: border-box;top: 2em;bottom: 0;left: 50%;}#sk-478edcd5-0a44-4e61-b3c7-d36c96fbe92c div.sk-serial {display: flex;flex-direction: column;align-items: center;background-color: white;padding-right: 0.2em;padding-left: 0.2em;}#sk-478edcd5-0a44-4e61-b3c7-d36c96fbe92c div.sk-item {z-index: 1;}#sk-478edcd5-0a44-4e61-b3c7-d36c96fbe92c div.sk-parallel {display: flex;align-items: stretch;justify-content: center;background-color: white;}#sk-478edcd5-0a44-4e61-b3c7-d36c96fbe92c div.sk-parallel::before {content: \"\";position: absolute;border-left: 1px solid gray;box-sizing: border-box;top: 2em;bottom: 0;left: 50%;}#sk-478edcd5-0a44-4e61-b3c7-d36c96fbe92c div.sk-parallel-item {display: flex;flex-direction: column;position: relative;background-color: white;}#sk-478edcd5-0a44-4e61-b3c7-d36c96fbe92c div.sk-parallel-item:first-child::after {align-self: flex-end;width: 50%;}#sk-478edcd5-0a44-4e61-b3c7-d36c96fbe92c div.sk-parallel-item:last-child::after {align-self: flex-start;width: 50%;}#sk-478edcd5-0a44-4e61-b3c7-d36c96fbe92c div.sk-parallel-item:only-child::after {width: 0;}#sk-478edcd5-0a44-4e61-b3c7-d36c96fbe92c div.sk-dashed-wrapped {border: 1px dashed gray;margin: 0 0.4em 0.5em 0.4em;box-sizing: border-box;padding-bottom: 0.4em;background-color: white;position: relative;}#sk-478edcd5-0a44-4e61-b3c7-d36c96fbe92c div.sk-label label {font-family: monospace;font-weight: bold;background-color: white;display: inline-block;line-height: 1.2em;}#sk-478edcd5-0a44-4e61-b3c7-d36c96fbe92c div.sk-label-container {position: relative;z-index: 2;text-align: center;}#sk-478edcd5-0a44-4e61-b3c7-d36c96fbe92c div.sk-container {/* jupyter's `normalize.less` sets `[hidden] { display: none; }` but bootstrap.min.css set `[hidden] { display: none !important; }` so we also need the `!important` here to be able to override the default hidden behavior on the sphinx rendered scikit-learn.org. See: https://github.com/scikit-learn/scikit-learn/issues/21755 */display: inline-block !important;position: relative;}#sk-478edcd5-0a44-4e61-b3c7-d36c96fbe92c div.sk-text-repr-fallback {display: none;}</style><div id=\"sk-478edcd5-0a44-4e61-b3c7-d36c96fbe92c\" class=\"sk-top-container\"><div class=\"sk-text-repr-fallback\"><pre>Pipeline(steps=[(&#x27;simpleimputer&#x27;, SimpleImputer()),\n",
              "                (&#x27;standardscaler&#x27;, StandardScaler())])</pre><b>Please rerun this cell to show the HTML repr or trust the notebook.</b></div><div class=\"sk-container\" hidden><div class=\"sk-item sk-dashed-wrapped\"><div class=\"sk-label-container\"><div class=\"sk-label sk-toggleable\"><input class=\"sk-toggleable__control sk-hidden--visually\" id=\"7b54b573-7aea-4f1c-b23e-ba0131109be2\" type=\"checkbox\" ><label for=\"7b54b573-7aea-4f1c-b23e-ba0131109be2\" class=\"sk-toggleable__label sk-toggleable__label-arrow\">Pipeline</label><div class=\"sk-toggleable__content\"><pre>Pipeline(steps=[(&#x27;simpleimputer&#x27;, SimpleImputer()),\n",
              "                (&#x27;standardscaler&#x27;, StandardScaler())])</pre></div></div></div><div class=\"sk-serial\"><div class=\"sk-item\"><div class=\"sk-estimator sk-toggleable\"><input class=\"sk-toggleable__control sk-hidden--visually\" id=\"45cb50b8-5ed3-4492-9a80-55a985ee3b5f\" type=\"checkbox\" ><label for=\"45cb50b8-5ed3-4492-9a80-55a985ee3b5f\" class=\"sk-toggleable__label sk-toggleable__label-arrow\">SimpleImputer</label><div class=\"sk-toggleable__content\"><pre>SimpleImputer()</pre></div></div></div><div class=\"sk-item\"><div class=\"sk-estimator sk-toggleable\"><input class=\"sk-toggleable__control sk-hidden--visually\" id=\"ede66000-faef-4b94-8b75-0dae463c7d2b\" type=\"checkbox\" ><label for=\"ede66000-faef-4b94-8b75-0dae463c7d2b\" class=\"sk-toggleable__label sk-toggleable__label-arrow\">StandardScaler</label><div class=\"sk-toggleable__content\"><pre>StandardScaler()</pre></div></div></div></div></div></div></div>"
            ]
          },
          "metadata": {},
          "execution_count": 15
        }
      ]
    },
    {
      "cell_type": "code",
      "source": [
        "#instantiating pipeline for nominal features\n",
        "cat_pipe = make_pipeline(freq_imputer, ohe)\n",
        "cat_pipe"
      ],
      "metadata": {
        "colab": {
          "base_uri": "https://localhost:8080/",
          "height": 129
        },
        "id": "H67kMTN6njX2",
        "outputId": "93764fdb-f7c1-4944-c54d-568b9417d983"
      },
      "execution_count": 16,
      "outputs": [
        {
          "output_type": "execute_result",
          "data": {
            "text/plain": [
              "Pipeline(steps=[('simpleimputer', SimpleImputer(strategy='most_frequent')),\n",
              "                ('onehotencoder',\n",
              "                 OneHotEncoder(handle_unknown='ignore', sparse=False))])"
            ],
            "text/html": [
              "<style>#sk-f04537bf-410f-44c0-a1d6-980fb9f7d04b {color: black;background-color: white;}#sk-f04537bf-410f-44c0-a1d6-980fb9f7d04b pre{padding: 0;}#sk-f04537bf-410f-44c0-a1d6-980fb9f7d04b div.sk-toggleable {background-color: white;}#sk-f04537bf-410f-44c0-a1d6-980fb9f7d04b label.sk-toggleable__label {cursor: pointer;display: block;width: 100%;margin-bottom: 0;padding: 0.3em;box-sizing: border-box;text-align: center;}#sk-f04537bf-410f-44c0-a1d6-980fb9f7d04b label.sk-toggleable__label-arrow:before {content: \"▸\";float: left;margin-right: 0.25em;color: #696969;}#sk-f04537bf-410f-44c0-a1d6-980fb9f7d04b label.sk-toggleable__label-arrow:hover:before {color: black;}#sk-f04537bf-410f-44c0-a1d6-980fb9f7d04b div.sk-estimator:hover label.sk-toggleable__label-arrow:before {color: black;}#sk-f04537bf-410f-44c0-a1d6-980fb9f7d04b div.sk-toggleable__content {max-height: 0;max-width: 0;overflow: hidden;text-align: left;background-color: #f0f8ff;}#sk-f04537bf-410f-44c0-a1d6-980fb9f7d04b div.sk-toggleable__content pre {margin: 0.2em;color: black;border-radius: 0.25em;background-color: #f0f8ff;}#sk-f04537bf-410f-44c0-a1d6-980fb9f7d04b input.sk-toggleable__control:checked~div.sk-toggleable__content {max-height: 200px;max-width: 100%;overflow: auto;}#sk-f04537bf-410f-44c0-a1d6-980fb9f7d04b input.sk-toggleable__control:checked~label.sk-toggleable__label-arrow:before {content: \"▾\";}#sk-f04537bf-410f-44c0-a1d6-980fb9f7d04b div.sk-estimator input.sk-toggleable__control:checked~label.sk-toggleable__label {background-color: #d4ebff;}#sk-f04537bf-410f-44c0-a1d6-980fb9f7d04b div.sk-label input.sk-toggleable__control:checked~label.sk-toggleable__label {background-color: #d4ebff;}#sk-f04537bf-410f-44c0-a1d6-980fb9f7d04b input.sk-hidden--visually {border: 0;clip: rect(1px 1px 1px 1px);clip: rect(1px, 1px, 1px, 1px);height: 1px;margin: -1px;overflow: hidden;padding: 0;position: absolute;width: 1px;}#sk-f04537bf-410f-44c0-a1d6-980fb9f7d04b div.sk-estimator {font-family: monospace;background-color: #f0f8ff;border: 1px dotted black;border-radius: 0.25em;box-sizing: border-box;margin-bottom: 0.5em;}#sk-f04537bf-410f-44c0-a1d6-980fb9f7d04b div.sk-estimator:hover {background-color: #d4ebff;}#sk-f04537bf-410f-44c0-a1d6-980fb9f7d04b div.sk-parallel-item::after {content: \"\";width: 100%;border-bottom: 1px solid gray;flex-grow: 1;}#sk-f04537bf-410f-44c0-a1d6-980fb9f7d04b div.sk-label:hover label.sk-toggleable__label {background-color: #d4ebff;}#sk-f04537bf-410f-44c0-a1d6-980fb9f7d04b div.sk-serial::before {content: \"\";position: absolute;border-left: 1px solid gray;box-sizing: border-box;top: 2em;bottom: 0;left: 50%;}#sk-f04537bf-410f-44c0-a1d6-980fb9f7d04b div.sk-serial {display: flex;flex-direction: column;align-items: center;background-color: white;padding-right: 0.2em;padding-left: 0.2em;}#sk-f04537bf-410f-44c0-a1d6-980fb9f7d04b div.sk-item {z-index: 1;}#sk-f04537bf-410f-44c0-a1d6-980fb9f7d04b div.sk-parallel {display: flex;align-items: stretch;justify-content: center;background-color: white;}#sk-f04537bf-410f-44c0-a1d6-980fb9f7d04b div.sk-parallel::before {content: \"\";position: absolute;border-left: 1px solid gray;box-sizing: border-box;top: 2em;bottom: 0;left: 50%;}#sk-f04537bf-410f-44c0-a1d6-980fb9f7d04b div.sk-parallel-item {display: flex;flex-direction: column;position: relative;background-color: white;}#sk-f04537bf-410f-44c0-a1d6-980fb9f7d04b div.sk-parallel-item:first-child::after {align-self: flex-end;width: 50%;}#sk-f04537bf-410f-44c0-a1d6-980fb9f7d04b div.sk-parallel-item:last-child::after {align-self: flex-start;width: 50%;}#sk-f04537bf-410f-44c0-a1d6-980fb9f7d04b div.sk-parallel-item:only-child::after {width: 0;}#sk-f04537bf-410f-44c0-a1d6-980fb9f7d04b div.sk-dashed-wrapped {border: 1px dashed gray;margin: 0 0.4em 0.5em 0.4em;box-sizing: border-box;padding-bottom: 0.4em;background-color: white;position: relative;}#sk-f04537bf-410f-44c0-a1d6-980fb9f7d04b div.sk-label label {font-family: monospace;font-weight: bold;background-color: white;display: inline-block;line-height: 1.2em;}#sk-f04537bf-410f-44c0-a1d6-980fb9f7d04b div.sk-label-container {position: relative;z-index: 2;text-align: center;}#sk-f04537bf-410f-44c0-a1d6-980fb9f7d04b div.sk-container {/* jupyter's `normalize.less` sets `[hidden] { display: none; }` but bootstrap.min.css set `[hidden] { display: none !important; }` so we also need the `!important` here to be able to override the default hidden behavior on the sphinx rendered scikit-learn.org. See: https://github.com/scikit-learn/scikit-learn/issues/21755 */display: inline-block !important;position: relative;}#sk-f04537bf-410f-44c0-a1d6-980fb9f7d04b div.sk-text-repr-fallback {display: none;}</style><div id=\"sk-f04537bf-410f-44c0-a1d6-980fb9f7d04b\" class=\"sk-top-container\"><div class=\"sk-text-repr-fallback\"><pre>Pipeline(steps=[(&#x27;simpleimputer&#x27;, SimpleImputer(strategy=&#x27;most_frequent&#x27;)),\n",
              "                (&#x27;onehotencoder&#x27;,\n",
              "                 OneHotEncoder(handle_unknown=&#x27;ignore&#x27;, sparse=False))])</pre><b>Please rerun this cell to show the HTML repr or trust the notebook.</b></div><div class=\"sk-container\" hidden><div class=\"sk-item sk-dashed-wrapped\"><div class=\"sk-label-container\"><div class=\"sk-label sk-toggleable\"><input class=\"sk-toggleable__control sk-hidden--visually\" id=\"8507fe7b-49a7-458f-b71b-4f1e8751dd83\" type=\"checkbox\" ><label for=\"8507fe7b-49a7-458f-b71b-4f1e8751dd83\" class=\"sk-toggleable__label sk-toggleable__label-arrow\">Pipeline</label><div class=\"sk-toggleable__content\"><pre>Pipeline(steps=[(&#x27;simpleimputer&#x27;, SimpleImputer(strategy=&#x27;most_frequent&#x27;)),\n",
              "                (&#x27;onehotencoder&#x27;,\n",
              "                 OneHotEncoder(handle_unknown=&#x27;ignore&#x27;, sparse=False))])</pre></div></div></div><div class=\"sk-serial\"><div class=\"sk-item\"><div class=\"sk-estimator sk-toggleable\"><input class=\"sk-toggleable__control sk-hidden--visually\" id=\"568d3fb6-95c6-4779-90ca-0349198c836e\" type=\"checkbox\" ><label for=\"568d3fb6-95c6-4779-90ca-0349198c836e\" class=\"sk-toggleable__label sk-toggleable__label-arrow\">SimpleImputer</label><div class=\"sk-toggleable__content\"><pre>SimpleImputer(strategy=&#x27;most_frequent&#x27;)</pre></div></div></div><div class=\"sk-item\"><div class=\"sk-estimator sk-toggleable\"><input class=\"sk-toggleable__control sk-hidden--visually\" id=\"604451e9-1655-4784-9898-5e8411c1e3b2\" type=\"checkbox\" ><label for=\"604451e9-1655-4784-9898-5e8411c1e3b2\" class=\"sk-toggleable__label sk-toggleable__label-arrow\">OneHotEncoder</label><div class=\"sk-toggleable__content\"><pre>OneHotEncoder(handle_unknown=&#x27;ignore&#x27;, sparse=False)</pre></div></div></div></div></div></div></div>"
            ]
          },
          "metadata": {},
          "execution_count": 16
        }
      ]
    },
    {
      "cell_type": "markdown",
      "source": [
        "##Data Transformation"
      ],
      "metadata": {
        "id": "seZlOiPwZcH_"
      }
    },
    {
      "cell_type": "code",
      "source": [
        "#instantiating column transformer\n",
        "num_tuple = (num_pipe, num_selector)\n",
        "cat_tuple = (cat_pipe, cat_selector)\n",
        "preprocessor = make_column_transformer(num_tuple, cat_tuple, remainder='drop')\n",
        "preprocessor"
      ],
      "metadata": {
        "colab": {
          "base_uri": "https://localhost:8080/",
          "height": 156
        },
        "id": "IDNcqCVNnyvy",
        "outputId": "077187ee-3393-4070-fc24-59e7353786e0"
      },
      "execution_count": 17,
      "outputs": [
        {
          "output_type": "execute_result",
          "data": {
            "text/plain": [
              "ColumnTransformer(transformers=[('pipeline-1',\n",
              "                                 Pipeline(steps=[('simpleimputer',\n",
              "                                                  SimpleImputer()),\n",
              "                                                 ('standardscaler',\n",
              "                                                  StandardScaler())]),\n",
              "                                 <sklearn.compose._column_transformer.make_column_selector object at 0x7fbe226b8190>),\n",
              "                                ('pipeline-2',\n",
              "                                 Pipeline(steps=[('simpleimputer',\n",
              "                                                  SimpleImputer(strategy='most_frequent')),\n",
              "                                                 ('onehotencoder',\n",
              "                                                  OneHotEncoder(handle_unknown='ignore',\n",
              "                                                                sparse=False))]),\n",
              "                                 <sklearn.compose._column_transformer.make_column_selector object at 0x7fbe226b8cd0>)])"
            ],
            "text/html": [
              "<style>#sk-62698fba-6de5-4c9a-9b07-62c844f4d629 {color: black;background-color: white;}#sk-62698fba-6de5-4c9a-9b07-62c844f4d629 pre{padding: 0;}#sk-62698fba-6de5-4c9a-9b07-62c844f4d629 div.sk-toggleable {background-color: white;}#sk-62698fba-6de5-4c9a-9b07-62c844f4d629 label.sk-toggleable__label {cursor: pointer;display: block;width: 100%;margin-bottom: 0;padding: 0.3em;box-sizing: border-box;text-align: center;}#sk-62698fba-6de5-4c9a-9b07-62c844f4d629 label.sk-toggleable__label-arrow:before {content: \"▸\";float: left;margin-right: 0.25em;color: #696969;}#sk-62698fba-6de5-4c9a-9b07-62c844f4d629 label.sk-toggleable__label-arrow:hover:before {color: black;}#sk-62698fba-6de5-4c9a-9b07-62c844f4d629 div.sk-estimator:hover label.sk-toggleable__label-arrow:before {color: black;}#sk-62698fba-6de5-4c9a-9b07-62c844f4d629 div.sk-toggleable__content {max-height: 0;max-width: 0;overflow: hidden;text-align: left;background-color: #f0f8ff;}#sk-62698fba-6de5-4c9a-9b07-62c844f4d629 div.sk-toggleable__content pre {margin: 0.2em;color: black;border-radius: 0.25em;background-color: #f0f8ff;}#sk-62698fba-6de5-4c9a-9b07-62c844f4d629 input.sk-toggleable__control:checked~div.sk-toggleable__content {max-height: 200px;max-width: 100%;overflow: auto;}#sk-62698fba-6de5-4c9a-9b07-62c844f4d629 input.sk-toggleable__control:checked~label.sk-toggleable__label-arrow:before {content: \"▾\";}#sk-62698fba-6de5-4c9a-9b07-62c844f4d629 div.sk-estimator input.sk-toggleable__control:checked~label.sk-toggleable__label {background-color: #d4ebff;}#sk-62698fba-6de5-4c9a-9b07-62c844f4d629 div.sk-label input.sk-toggleable__control:checked~label.sk-toggleable__label {background-color: #d4ebff;}#sk-62698fba-6de5-4c9a-9b07-62c844f4d629 input.sk-hidden--visually {border: 0;clip: rect(1px 1px 1px 1px);clip: rect(1px, 1px, 1px, 1px);height: 1px;margin: -1px;overflow: hidden;padding: 0;position: absolute;width: 1px;}#sk-62698fba-6de5-4c9a-9b07-62c844f4d629 div.sk-estimator {font-family: monospace;background-color: #f0f8ff;border: 1px dotted black;border-radius: 0.25em;box-sizing: border-box;margin-bottom: 0.5em;}#sk-62698fba-6de5-4c9a-9b07-62c844f4d629 div.sk-estimator:hover {background-color: #d4ebff;}#sk-62698fba-6de5-4c9a-9b07-62c844f4d629 div.sk-parallel-item::after {content: \"\";width: 100%;border-bottom: 1px solid gray;flex-grow: 1;}#sk-62698fba-6de5-4c9a-9b07-62c844f4d629 div.sk-label:hover label.sk-toggleable__label {background-color: #d4ebff;}#sk-62698fba-6de5-4c9a-9b07-62c844f4d629 div.sk-serial::before {content: \"\";position: absolute;border-left: 1px solid gray;box-sizing: border-box;top: 2em;bottom: 0;left: 50%;}#sk-62698fba-6de5-4c9a-9b07-62c844f4d629 div.sk-serial {display: flex;flex-direction: column;align-items: center;background-color: white;padding-right: 0.2em;padding-left: 0.2em;}#sk-62698fba-6de5-4c9a-9b07-62c844f4d629 div.sk-item {z-index: 1;}#sk-62698fba-6de5-4c9a-9b07-62c844f4d629 div.sk-parallel {display: flex;align-items: stretch;justify-content: center;background-color: white;}#sk-62698fba-6de5-4c9a-9b07-62c844f4d629 div.sk-parallel::before {content: \"\";position: absolute;border-left: 1px solid gray;box-sizing: border-box;top: 2em;bottom: 0;left: 50%;}#sk-62698fba-6de5-4c9a-9b07-62c844f4d629 div.sk-parallel-item {display: flex;flex-direction: column;position: relative;background-color: white;}#sk-62698fba-6de5-4c9a-9b07-62c844f4d629 div.sk-parallel-item:first-child::after {align-self: flex-end;width: 50%;}#sk-62698fba-6de5-4c9a-9b07-62c844f4d629 div.sk-parallel-item:last-child::after {align-self: flex-start;width: 50%;}#sk-62698fba-6de5-4c9a-9b07-62c844f4d629 div.sk-parallel-item:only-child::after {width: 0;}#sk-62698fba-6de5-4c9a-9b07-62c844f4d629 div.sk-dashed-wrapped {border: 1px dashed gray;margin: 0 0.4em 0.5em 0.4em;box-sizing: border-box;padding-bottom: 0.4em;background-color: white;position: relative;}#sk-62698fba-6de5-4c9a-9b07-62c844f4d629 div.sk-label label {font-family: monospace;font-weight: bold;background-color: white;display: inline-block;line-height: 1.2em;}#sk-62698fba-6de5-4c9a-9b07-62c844f4d629 div.sk-label-container {position: relative;z-index: 2;text-align: center;}#sk-62698fba-6de5-4c9a-9b07-62c844f4d629 div.sk-container {/* jupyter's `normalize.less` sets `[hidden] { display: none; }` but bootstrap.min.css set `[hidden] { display: none !important; }` so we also need the `!important` here to be able to override the default hidden behavior on the sphinx rendered scikit-learn.org. See: https://github.com/scikit-learn/scikit-learn/issues/21755 */display: inline-block !important;position: relative;}#sk-62698fba-6de5-4c9a-9b07-62c844f4d629 div.sk-text-repr-fallback {display: none;}</style><div id=\"sk-62698fba-6de5-4c9a-9b07-62c844f4d629\" class=\"sk-top-container\"><div class=\"sk-text-repr-fallback\"><pre>ColumnTransformer(transformers=[(&#x27;pipeline-1&#x27;,\n",
              "                                 Pipeline(steps=[(&#x27;simpleimputer&#x27;,\n",
              "                                                  SimpleImputer()),\n",
              "                                                 (&#x27;standardscaler&#x27;,\n",
              "                                                  StandardScaler())]),\n",
              "                                 &lt;sklearn.compose._column_transformer.make_column_selector object at 0x7fbe226b8190&gt;),\n",
              "                                (&#x27;pipeline-2&#x27;,\n",
              "                                 Pipeline(steps=[(&#x27;simpleimputer&#x27;,\n",
              "                                                  SimpleImputer(strategy=&#x27;most_frequent&#x27;)),\n",
              "                                                 (&#x27;onehotencoder&#x27;,\n",
              "                                                  OneHotEncoder(handle_unknown=&#x27;ignore&#x27;,\n",
              "                                                                sparse=False))]),\n",
              "                                 &lt;sklearn.compose._column_transformer.make_column_selector object at 0x7fbe226b8cd0&gt;)])</pre><b>Please rerun this cell to show the HTML repr or trust the notebook.</b></div><div class=\"sk-container\" hidden><div class=\"sk-item sk-dashed-wrapped\"><div class=\"sk-label-container\"><div class=\"sk-label sk-toggleable\"><input class=\"sk-toggleable__control sk-hidden--visually\" id=\"671db28a-7409-40fd-a027-5f9e040b860f\" type=\"checkbox\" ><label for=\"671db28a-7409-40fd-a027-5f9e040b860f\" class=\"sk-toggleable__label sk-toggleable__label-arrow\">ColumnTransformer</label><div class=\"sk-toggleable__content\"><pre>ColumnTransformer(transformers=[(&#x27;pipeline-1&#x27;,\n",
              "                                 Pipeline(steps=[(&#x27;simpleimputer&#x27;,\n",
              "                                                  SimpleImputer()),\n",
              "                                                 (&#x27;standardscaler&#x27;,\n",
              "                                                  StandardScaler())]),\n",
              "                                 &lt;sklearn.compose._column_transformer.make_column_selector object at 0x7fbe226b8190&gt;),\n",
              "                                (&#x27;pipeline-2&#x27;,\n",
              "                                 Pipeline(steps=[(&#x27;simpleimputer&#x27;,\n",
              "                                                  SimpleImputer(strategy=&#x27;most_frequent&#x27;)),\n",
              "                                                 (&#x27;onehotencoder&#x27;,\n",
              "                                                  OneHotEncoder(handle_unknown=&#x27;ignore&#x27;,\n",
              "                                                                sparse=False))]),\n",
              "                                 &lt;sklearn.compose._column_transformer.make_column_selector object at 0x7fbe226b8cd0&gt;)])</pre></div></div></div><div class=\"sk-parallel\"><div class=\"sk-parallel-item\"><div class=\"sk-item\"><div class=\"sk-label-container\"><div class=\"sk-label sk-toggleable\"><input class=\"sk-toggleable__control sk-hidden--visually\" id=\"6007afec-ea22-4f00-980c-3c896aa2558e\" type=\"checkbox\" ><label for=\"6007afec-ea22-4f00-980c-3c896aa2558e\" class=\"sk-toggleable__label sk-toggleable__label-arrow\">pipeline-1</label><div class=\"sk-toggleable__content\"><pre>&lt;sklearn.compose._column_transformer.make_column_selector object at 0x7fbe226b8190&gt;</pre></div></div></div><div class=\"sk-serial\"><div class=\"sk-item\"><div class=\"sk-serial\"><div class=\"sk-item\"><div class=\"sk-estimator sk-toggleable\"><input class=\"sk-toggleable__control sk-hidden--visually\" id=\"086f6134-db14-4f98-a488-45bccb5dd1aa\" type=\"checkbox\" ><label for=\"086f6134-db14-4f98-a488-45bccb5dd1aa\" class=\"sk-toggleable__label sk-toggleable__label-arrow\">SimpleImputer</label><div class=\"sk-toggleable__content\"><pre>SimpleImputer()</pre></div></div></div><div class=\"sk-item\"><div class=\"sk-estimator sk-toggleable\"><input class=\"sk-toggleable__control sk-hidden--visually\" id=\"8b0d7bf6-7d41-463c-a703-6a7ce82f1eb8\" type=\"checkbox\" ><label for=\"8b0d7bf6-7d41-463c-a703-6a7ce82f1eb8\" class=\"sk-toggleable__label sk-toggleable__label-arrow\">StandardScaler</label><div class=\"sk-toggleable__content\"><pre>StandardScaler()</pre></div></div></div></div></div></div></div></div><div class=\"sk-parallel-item\"><div class=\"sk-item\"><div class=\"sk-label-container\"><div class=\"sk-label sk-toggleable\"><input class=\"sk-toggleable__control sk-hidden--visually\" id=\"c715f9bf-513b-4741-a47b-515b9649874b\" type=\"checkbox\" ><label for=\"c715f9bf-513b-4741-a47b-515b9649874b\" class=\"sk-toggleable__label sk-toggleable__label-arrow\">pipeline-2</label><div class=\"sk-toggleable__content\"><pre>&lt;sklearn.compose._column_transformer.make_column_selector object at 0x7fbe226b8cd0&gt;</pre></div></div></div><div class=\"sk-serial\"><div class=\"sk-item\"><div class=\"sk-serial\"><div class=\"sk-item\"><div class=\"sk-estimator sk-toggleable\"><input class=\"sk-toggleable__control sk-hidden--visually\" id=\"3d2a541a-c102-4d2b-be14-dd326d3e1c63\" type=\"checkbox\" ><label for=\"3d2a541a-c102-4d2b-be14-dd326d3e1c63\" class=\"sk-toggleable__label sk-toggleable__label-arrow\">SimpleImputer</label><div class=\"sk-toggleable__content\"><pre>SimpleImputer(strategy=&#x27;most_frequent&#x27;)</pre></div></div></div><div class=\"sk-item\"><div class=\"sk-estimator sk-toggleable\"><input class=\"sk-toggleable__control sk-hidden--visually\" id=\"ab3e2a10-1ebe-4e86-bca3-655fb9070e7f\" type=\"checkbox\" ><label for=\"ab3e2a10-1ebe-4e86-bca3-655fb9070e7f\" class=\"sk-toggleable__label sk-toggleable__label-arrow\">OneHotEncoder</label><div class=\"sk-toggleable__content\"><pre>OneHotEncoder(handle_unknown=&#x27;ignore&#x27;, sparse=False)</pre></div></div></div></div></div></div></div></div></div></div></div></div>"
            ]
          },
          "metadata": {},
          "execution_count": 17
        }
      ]
    },
    {
      "cell_type": "code",
      "source": [
        "#Fitting the transformer\n",
        "preprocessor.fit(X_train)"
      ],
      "metadata": {
        "colab": {
          "base_uri": "https://localhost:8080/",
          "height": 156
        },
        "id": "kA1mc1h5oG_k",
        "outputId": "042f00b7-4087-47e5-8413-159a40a76388"
      },
      "execution_count": 62,
      "outputs": [
        {
          "output_type": "execute_result",
          "data": {
            "text/plain": [
              "ColumnTransformer(transformers=[('pipeline-1',\n",
              "                                 Pipeline(steps=[('simpleimputer',\n",
              "                                                  SimpleImputer()),\n",
              "                                                 ('standardscaler',\n",
              "                                                  StandardScaler())]),\n",
              "                                 <sklearn.compose._column_transformer.make_column_selector object at 0x7fbe226b8190>),\n",
              "                                ('pipeline-2',\n",
              "                                 Pipeline(steps=[('simpleimputer',\n",
              "                                                  SimpleImputer(strategy='most_frequent')),\n",
              "                                                 ('onehotencoder',\n",
              "                                                  OneHotEncoder(handle_unknown='ignore',\n",
              "                                                                sparse=False))]),\n",
              "                                 <sklearn.compose._column_transformer.make_column_selector object at 0x7fbe226b8cd0>)])"
            ],
            "text/html": [
              "<style>#sk-bb43c594-d8fd-4374-8bfd-9d6e48d8f04a {color: black;background-color: white;}#sk-bb43c594-d8fd-4374-8bfd-9d6e48d8f04a pre{padding: 0;}#sk-bb43c594-d8fd-4374-8bfd-9d6e48d8f04a div.sk-toggleable {background-color: white;}#sk-bb43c594-d8fd-4374-8bfd-9d6e48d8f04a label.sk-toggleable__label {cursor: pointer;display: block;width: 100%;margin-bottom: 0;padding: 0.3em;box-sizing: border-box;text-align: center;}#sk-bb43c594-d8fd-4374-8bfd-9d6e48d8f04a label.sk-toggleable__label-arrow:before {content: \"▸\";float: left;margin-right: 0.25em;color: #696969;}#sk-bb43c594-d8fd-4374-8bfd-9d6e48d8f04a label.sk-toggleable__label-arrow:hover:before {color: black;}#sk-bb43c594-d8fd-4374-8bfd-9d6e48d8f04a div.sk-estimator:hover label.sk-toggleable__label-arrow:before {color: black;}#sk-bb43c594-d8fd-4374-8bfd-9d6e48d8f04a div.sk-toggleable__content {max-height: 0;max-width: 0;overflow: hidden;text-align: left;background-color: #f0f8ff;}#sk-bb43c594-d8fd-4374-8bfd-9d6e48d8f04a div.sk-toggleable__content pre {margin: 0.2em;color: black;border-radius: 0.25em;background-color: #f0f8ff;}#sk-bb43c594-d8fd-4374-8bfd-9d6e48d8f04a input.sk-toggleable__control:checked~div.sk-toggleable__content {max-height: 200px;max-width: 100%;overflow: auto;}#sk-bb43c594-d8fd-4374-8bfd-9d6e48d8f04a input.sk-toggleable__control:checked~label.sk-toggleable__label-arrow:before {content: \"▾\";}#sk-bb43c594-d8fd-4374-8bfd-9d6e48d8f04a div.sk-estimator input.sk-toggleable__control:checked~label.sk-toggleable__label {background-color: #d4ebff;}#sk-bb43c594-d8fd-4374-8bfd-9d6e48d8f04a div.sk-label input.sk-toggleable__control:checked~label.sk-toggleable__label {background-color: #d4ebff;}#sk-bb43c594-d8fd-4374-8bfd-9d6e48d8f04a input.sk-hidden--visually {border: 0;clip: rect(1px 1px 1px 1px);clip: rect(1px, 1px, 1px, 1px);height: 1px;margin: -1px;overflow: hidden;padding: 0;position: absolute;width: 1px;}#sk-bb43c594-d8fd-4374-8bfd-9d6e48d8f04a div.sk-estimator {font-family: monospace;background-color: #f0f8ff;border: 1px dotted black;border-radius: 0.25em;box-sizing: border-box;margin-bottom: 0.5em;}#sk-bb43c594-d8fd-4374-8bfd-9d6e48d8f04a div.sk-estimator:hover {background-color: #d4ebff;}#sk-bb43c594-d8fd-4374-8bfd-9d6e48d8f04a div.sk-parallel-item::after {content: \"\";width: 100%;border-bottom: 1px solid gray;flex-grow: 1;}#sk-bb43c594-d8fd-4374-8bfd-9d6e48d8f04a div.sk-label:hover label.sk-toggleable__label {background-color: #d4ebff;}#sk-bb43c594-d8fd-4374-8bfd-9d6e48d8f04a div.sk-serial::before {content: \"\";position: absolute;border-left: 1px solid gray;box-sizing: border-box;top: 2em;bottom: 0;left: 50%;}#sk-bb43c594-d8fd-4374-8bfd-9d6e48d8f04a div.sk-serial {display: flex;flex-direction: column;align-items: center;background-color: white;padding-right: 0.2em;padding-left: 0.2em;}#sk-bb43c594-d8fd-4374-8bfd-9d6e48d8f04a div.sk-item {z-index: 1;}#sk-bb43c594-d8fd-4374-8bfd-9d6e48d8f04a div.sk-parallel {display: flex;align-items: stretch;justify-content: center;background-color: white;}#sk-bb43c594-d8fd-4374-8bfd-9d6e48d8f04a div.sk-parallel::before {content: \"\";position: absolute;border-left: 1px solid gray;box-sizing: border-box;top: 2em;bottom: 0;left: 50%;}#sk-bb43c594-d8fd-4374-8bfd-9d6e48d8f04a div.sk-parallel-item {display: flex;flex-direction: column;position: relative;background-color: white;}#sk-bb43c594-d8fd-4374-8bfd-9d6e48d8f04a div.sk-parallel-item:first-child::after {align-self: flex-end;width: 50%;}#sk-bb43c594-d8fd-4374-8bfd-9d6e48d8f04a div.sk-parallel-item:last-child::after {align-self: flex-start;width: 50%;}#sk-bb43c594-d8fd-4374-8bfd-9d6e48d8f04a div.sk-parallel-item:only-child::after {width: 0;}#sk-bb43c594-d8fd-4374-8bfd-9d6e48d8f04a div.sk-dashed-wrapped {border: 1px dashed gray;margin: 0 0.4em 0.5em 0.4em;box-sizing: border-box;padding-bottom: 0.4em;background-color: white;position: relative;}#sk-bb43c594-d8fd-4374-8bfd-9d6e48d8f04a div.sk-label label {font-family: monospace;font-weight: bold;background-color: white;display: inline-block;line-height: 1.2em;}#sk-bb43c594-d8fd-4374-8bfd-9d6e48d8f04a div.sk-label-container {position: relative;z-index: 2;text-align: center;}#sk-bb43c594-d8fd-4374-8bfd-9d6e48d8f04a div.sk-container {/* jupyter's `normalize.less` sets `[hidden] { display: none; }` but bootstrap.min.css set `[hidden] { display: none !important; }` so we also need the `!important` here to be able to override the default hidden behavior on the sphinx rendered scikit-learn.org. See: https://github.com/scikit-learn/scikit-learn/issues/21755 */display: inline-block !important;position: relative;}#sk-bb43c594-d8fd-4374-8bfd-9d6e48d8f04a div.sk-text-repr-fallback {display: none;}</style><div id=\"sk-bb43c594-d8fd-4374-8bfd-9d6e48d8f04a\" class=\"sk-top-container\"><div class=\"sk-text-repr-fallback\"><pre>ColumnTransformer(transformers=[(&#x27;pipeline-1&#x27;,\n",
              "                                 Pipeline(steps=[(&#x27;simpleimputer&#x27;,\n",
              "                                                  SimpleImputer()),\n",
              "                                                 (&#x27;standardscaler&#x27;,\n",
              "                                                  StandardScaler())]),\n",
              "                                 &lt;sklearn.compose._column_transformer.make_column_selector object at 0x7fbe226b8190&gt;),\n",
              "                                (&#x27;pipeline-2&#x27;,\n",
              "                                 Pipeline(steps=[(&#x27;simpleimputer&#x27;,\n",
              "                                                  SimpleImputer(strategy=&#x27;most_frequent&#x27;)),\n",
              "                                                 (&#x27;onehotencoder&#x27;,\n",
              "                                                  OneHotEncoder(handle_unknown=&#x27;ignore&#x27;,\n",
              "                                                                sparse=False))]),\n",
              "                                 &lt;sklearn.compose._column_transformer.make_column_selector object at 0x7fbe226b8cd0&gt;)])</pre><b>Please rerun this cell to show the HTML repr or trust the notebook.</b></div><div class=\"sk-container\" hidden><div class=\"sk-item sk-dashed-wrapped\"><div class=\"sk-label-container\"><div class=\"sk-label sk-toggleable\"><input class=\"sk-toggleable__control sk-hidden--visually\" id=\"836b4891-4be5-4f15-8f09-d8bb341ca4c9\" type=\"checkbox\" ><label for=\"836b4891-4be5-4f15-8f09-d8bb341ca4c9\" class=\"sk-toggleable__label sk-toggleable__label-arrow\">ColumnTransformer</label><div class=\"sk-toggleable__content\"><pre>ColumnTransformer(transformers=[(&#x27;pipeline-1&#x27;,\n",
              "                                 Pipeline(steps=[(&#x27;simpleimputer&#x27;,\n",
              "                                                  SimpleImputer()),\n",
              "                                                 (&#x27;standardscaler&#x27;,\n",
              "                                                  StandardScaler())]),\n",
              "                                 &lt;sklearn.compose._column_transformer.make_column_selector object at 0x7fbe226b8190&gt;),\n",
              "                                (&#x27;pipeline-2&#x27;,\n",
              "                                 Pipeline(steps=[(&#x27;simpleimputer&#x27;,\n",
              "                                                  SimpleImputer(strategy=&#x27;most_frequent&#x27;)),\n",
              "                                                 (&#x27;onehotencoder&#x27;,\n",
              "                                                  OneHotEncoder(handle_unknown=&#x27;ignore&#x27;,\n",
              "                                                                sparse=False))]),\n",
              "                                 &lt;sklearn.compose._column_transformer.make_column_selector object at 0x7fbe226b8cd0&gt;)])</pre></div></div></div><div class=\"sk-parallel\"><div class=\"sk-parallel-item\"><div class=\"sk-item\"><div class=\"sk-label-container\"><div class=\"sk-label sk-toggleable\"><input class=\"sk-toggleable__control sk-hidden--visually\" id=\"e7e354d0-256b-4471-b7bc-6a72caa2f9aa\" type=\"checkbox\" ><label for=\"e7e354d0-256b-4471-b7bc-6a72caa2f9aa\" class=\"sk-toggleable__label sk-toggleable__label-arrow\">pipeline-1</label><div class=\"sk-toggleable__content\"><pre>&lt;sklearn.compose._column_transformer.make_column_selector object at 0x7fbe226b8190&gt;</pre></div></div></div><div class=\"sk-serial\"><div class=\"sk-item\"><div class=\"sk-serial\"><div class=\"sk-item\"><div class=\"sk-estimator sk-toggleable\"><input class=\"sk-toggleable__control sk-hidden--visually\" id=\"c2bf801d-6cc1-40f9-8ee6-c6a2ba1bdcad\" type=\"checkbox\" ><label for=\"c2bf801d-6cc1-40f9-8ee6-c6a2ba1bdcad\" class=\"sk-toggleable__label sk-toggleable__label-arrow\">SimpleImputer</label><div class=\"sk-toggleable__content\"><pre>SimpleImputer()</pre></div></div></div><div class=\"sk-item\"><div class=\"sk-estimator sk-toggleable\"><input class=\"sk-toggleable__control sk-hidden--visually\" id=\"6145ce92-79b3-4c1f-8a28-9e2f67a085bb\" type=\"checkbox\" ><label for=\"6145ce92-79b3-4c1f-8a28-9e2f67a085bb\" class=\"sk-toggleable__label sk-toggleable__label-arrow\">StandardScaler</label><div class=\"sk-toggleable__content\"><pre>StandardScaler()</pre></div></div></div></div></div></div></div></div><div class=\"sk-parallel-item\"><div class=\"sk-item\"><div class=\"sk-label-container\"><div class=\"sk-label sk-toggleable\"><input class=\"sk-toggleable__control sk-hidden--visually\" id=\"04fad38a-7244-4c27-8466-98d635390437\" type=\"checkbox\" ><label for=\"04fad38a-7244-4c27-8466-98d635390437\" class=\"sk-toggleable__label sk-toggleable__label-arrow\">pipeline-2</label><div class=\"sk-toggleable__content\"><pre>&lt;sklearn.compose._column_transformer.make_column_selector object at 0x7fbe226b8cd0&gt;</pre></div></div></div><div class=\"sk-serial\"><div class=\"sk-item\"><div class=\"sk-serial\"><div class=\"sk-item\"><div class=\"sk-estimator sk-toggleable\"><input class=\"sk-toggleable__control sk-hidden--visually\" id=\"1fe855a9-e45c-4513-85dc-091847310358\" type=\"checkbox\" ><label for=\"1fe855a9-e45c-4513-85dc-091847310358\" class=\"sk-toggleable__label sk-toggleable__label-arrow\">SimpleImputer</label><div class=\"sk-toggleable__content\"><pre>SimpleImputer(strategy=&#x27;most_frequent&#x27;)</pre></div></div></div><div class=\"sk-item\"><div class=\"sk-estimator sk-toggleable\"><input class=\"sk-toggleable__control sk-hidden--visually\" id=\"df27cdcc-e598-47b7-a40a-446ff94b1234\" type=\"checkbox\" ><label for=\"df27cdcc-e598-47b7-a40a-446ff94b1234\" class=\"sk-toggleable__label sk-toggleable__label-arrow\">OneHotEncoder</label><div class=\"sk-toggleable__content\"><pre>OneHotEncoder(handle_unknown=&#x27;ignore&#x27;, sparse=False)</pre></div></div></div></div></div></div></div></div></div></div></div></div>"
            ]
          },
          "metadata": {},
          "execution_count": 62
        }
      ]
    },
    {
      "cell_type": "code",
      "source": [
        "X_train_processed = preprocessor.transform(X_train)\n",
        "X_test_processed = preprocessor.transform(X_test)"
      ],
      "metadata": {
        "id": "iXvny0YYoQNR"
      },
      "execution_count": 19,
      "outputs": []
    },
    {
      "cell_type": "code",
      "source": [
        "X_train_processed"
      ],
      "metadata": {
        "colab": {
          "base_uri": "https://localhost:8080/"
        },
        "id": "N77i8nuoFsxK",
        "outputId": "12ac9e52-44ca-4676-c2ef-ad21a7eb1356"
      },
      "execution_count": 20,
      "outputs": [
        {
          "output_type": "execute_result",
          "data": {
            "text/plain": [
              "array([[-0.71277507,  1.82810922,  1.32784893, ...,  0.        ,\n",
              "         1.        ,  0.        ],\n",
              "       [-1.29105225,  0.60336888,  1.32784893, ...,  0.        ,\n",
              "         1.        ,  0.        ],\n",
              "       [ 1.81331864,  0.24454056,  0.13618724, ...,  1.        ,\n",
              "         0.        ,  0.        ],\n",
              "       ...,\n",
              "       [-0.92052713,  1.52302674,  0.49368575, ...,  1.        ,\n",
              "         0.        ,  0.        ],\n",
              "       [-0.2277552 , -0.38377708,  1.0895166 , ...,  1.        ,\n",
              "         0.        ,  0.        ],\n",
              "       [-0.95867683, -0.73836105, -0.10214509, ...,  1.        ,\n",
              "         0.        ,  0.        ]])"
            ]
          },
          "metadata": {},
          "execution_count": 20
        }
      ]
    },
    {
      "cell_type": "code",
      "source": [
        "X_test_processed"
      ],
      "metadata": {
        "colab": {
          "base_uri": "https://localhost:8080/"
        },
        "id": "xfSQmQYHFyJB",
        "outputId": "bc9fa8ec-f388-4d85-e6f9-7ffc81d28d60"
      },
      "execution_count": 21,
      "outputs": [
        {
          "output_type": "execute_result",
          "data": {
            "text/plain": [
              "array([[-0.77664625, -0.99881554, -1.29380678, ...,  1.        ,\n",
              "         0.        ,  0.        ],\n",
              "       [ 0.1003166 , -1.58519423, -0.10214509, ...,  1.        ,\n",
              "         0.        ,  0.        ],\n",
              "       [-0.48299432, -1.59578435,  0.13618724, ...,  1.        ,\n",
              "         0.        ,  0.        ],\n",
              "       ...,\n",
              "       [ 1.21832428,  1.09397975,  0.49368575, ...,  1.        ,\n",
              "         0.        ,  0.        ],\n",
              "       [-0.77809567, -0.36679966,  0.13618724, ...,  1.        ,\n",
              "         0.        ,  0.        ],\n",
              "       [-0.77976293,  0.11221189,  1.0895166 , ...,  1.        ,\n",
              "         0.        ,  0.        ]])"
            ]
          },
          "metadata": {},
          "execution_count": 21
        }
      ]
    },
    {
      "cell_type": "markdown",
      "source": [
        "##Linear Regression"
      ],
      "metadata": {
        "id": "xO12UwSJMOzu"
      }
    },
    {
      "cell_type": "code",
      "source": [
        "#importing and instantiating the model\n",
        "from sklearn.linear_model import LinearRegression\n",
        "reg = LinearRegression()"
      ],
      "metadata": {
        "id": "m7AcgfFkMR6d"
      },
      "execution_count": 24,
      "outputs": []
    },
    {
      "cell_type": "code",
      "source": [
        "#creating a model pipeline\n",
        "from sklearn.pipeline import make_pipeline\n",
        "reg_pipe = make_pipeline(scaler, reg)"
      ],
      "metadata": {
        "id": "5gMq1z79MY-O"
      },
      "execution_count": 25,
      "outputs": []
    },
    {
      "cell_type": "code",
      "source": [
        "#Training the model on your training data\n",
        "reg_pipe.fit(X_train_processed, y_train)"
      ],
      "metadata": {
        "colab": {
          "base_uri": "https://localhost:8080/",
          "height": 129
        },
        "id": "Mia0Jyg5MvtS",
        "outputId": "29776078-2da1-4776-95cb-9c2880fcecca"
      },
      "execution_count": 28,
      "outputs": [
        {
          "output_type": "execute_result",
          "data": {
            "text/plain": [
              "Pipeline(steps=[('standardscaler', StandardScaler()),\n",
              "                ('linearregression', LinearRegression())])"
            ],
            "text/html": [
              "<style>#sk-2326a663-6676-46d1-b1c3-3701cba5e997 {color: black;background-color: white;}#sk-2326a663-6676-46d1-b1c3-3701cba5e997 pre{padding: 0;}#sk-2326a663-6676-46d1-b1c3-3701cba5e997 div.sk-toggleable {background-color: white;}#sk-2326a663-6676-46d1-b1c3-3701cba5e997 label.sk-toggleable__label {cursor: pointer;display: block;width: 100%;margin-bottom: 0;padding: 0.3em;box-sizing: border-box;text-align: center;}#sk-2326a663-6676-46d1-b1c3-3701cba5e997 label.sk-toggleable__label-arrow:before {content: \"▸\";float: left;margin-right: 0.25em;color: #696969;}#sk-2326a663-6676-46d1-b1c3-3701cba5e997 label.sk-toggleable__label-arrow:hover:before {color: black;}#sk-2326a663-6676-46d1-b1c3-3701cba5e997 div.sk-estimator:hover label.sk-toggleable__label-arrow:before {color: black;}#sk-2326a663-6676-46d1-b1c3-3701cba5e997 div.sk-toggleable__content {max-height: 0;max-width: 0;overflow: hidden;text-align: left;background-color: #f0f8ff;}#sk-2326a663-6676-46d1-b1c3-3701cba5e997 div.sk-toggleable__content pre {margin: 0.2em;color: black;border-radius: 0.25em;background-color: #f0f8ff;}#sk-2326a663-6676-46d1-b1c3-3701cba5e997 input.sk-toggleable__control:checked~div.sk-toggleable__content {max-height: 200px;max-width: 100%;overflow: auto;}#sk-2326a663-6676-46d1-b1c3-3701cba5e997 input.sk-toggleable__control:checked~label.sk-toggleable__label-arrow:before {content: \"▾\";}#sk-2326a663-6676-46d1-b1c3-3701cba5e997 div.sk-estimator input.sk-toggleable__control:checked~label.sk-toggleable__label {background-color: #d4ebff;}#sk-2326a663-6676-46d1-b1c3-3701cba5e997 div.sk-label input.sk-toggleable__control:checked~label.sk-toggleable__label {background-color: #d4ebff;}#sk-2326a663-6676-46d1-b1c3-3701cba5e997 input.sk-hidden--visually {border: 0;clip: rect(1px 1px 1px 1px);clip: rect(1px, 1px, 1px, 1px);height: 1px;margin: -1px;overflow: hidden;padding: 0;position: absolute;width: 1px;}#sk-2326a663-6676-46d1-b1c3-3701cba5e997 div.sk-estimator {font-family: monospace;background-color: #f0f8ff;border: 1px dotted black;border-radius: 0.25em;box-sizing: border-box;margin-bottom: 0.5em;}#sk-2326a663-6676-46d1-b1c3-3701cba5e997 div.sk-estimator:hover {background-color: #d4ebff;}#sk-2326a663-6676-46d1-b1c3-3701cba5e997 div.sk-parallel-item::after {content: \"\";width: 100%;border-bottom: 1px solid gray;flex-grow: 1;}#sk-2326a663-6676-46d1-b1c3-3701cba5e997 div.sk-label:hover label.sk-toggleable__label {background-color: #d4ebff;}#sk-2326a663-6676-46d1-b1c3-3701cba5e997 div.sk-serial::before {content: \"\";position: absolute;border-left: 1px solid gray;box-sizing: border-box;top: 2em;bottom: 0;left: 50%;}#sk-2326a663-6676-46d1-b1c3-3701cba5e997 div.sk-serial {display: flex;flex-direction: column;align-items: center;background-color: white;padding-right: 0.2em;padding-left: 0.2em;}#sk-2326a663-6676-46d1-b1c3-3701cba5e997 div.sk-item {z-index: 1;}#sk-2326a663-6676-46d1-b1c3-3701cba5e997 div.sk-parallel {display: flex;align-items: stretch;justify-content: center;background-color: white;}#sk-2326a663-6676-46d1-b1c3-3701cba5e997 div.sk-parallel::before {content: \"\";position: absolute;border-left: 1px solid gray;box-sizing: border-box;top: 2em;bottom: 0;left: 50%;}#sk-2326a663-6676-46d1-b1c3-3701cba5e997 div.sk-parallel-item {display: flex;flex-direction: column;position: relative;background-color: white;}#sk-2326a663-6676-46d1-b1c3-3701cba5e997 div.sk-parallel-item:first-child::after {align-self: flex-end;width: 50%;}#sk-2326a663-6676-46d1-b1c3-3701cba5e997 div.sk-parallel-item:last-child::after {align-self: flex-start;width: 50%;}#sk-2326a663-6676-46d1-b1c3-3701cba5e997 div.sk-parallel-item:only-child::after {width: 0;}#sk-2326a663-6676-46d1-b1c3-3701cba5e997 div.sk-dashed-wrapped {border: 1px dashed gray;margin: 0 0.4em 0.5em 0.4em;box-sizing: border-box;padding-bottom: 0.4em;background-color: white;position: relative;}#sk-2326a663-6676-46d1-b1c3-3701cba5e997 div.sk-label label {font-family: monospace;font-weight: bold;background-color: white;display: inline-block;line-height: 1.2em;}#sk-2326a663-6676-46d1-b1c3-3701cba5e997 div.sk-label-container {position: relative;z-index: 2;text-align: center;}#sk-2326a663-6676-46d1-b1c3-3701cba5e997 div.sk-container {/* jupyter's `normalize.less` sets `[hidden] { display: none; }` but bootstrap.min.css set `[hidden] { display: none !important; }` so we also need the `!important` here to be able to override the default hidden behavior on the sphinx rendered scikit-learn.org. See: https://github.com/scikit-learn/scikit-learn/issues/21755 */display: inline-block !important;position: relative;}#sk-2326a663-6676-46d1-b1c3-3701cba5e997 div.sk-text-repr-fallback {display: none;}</style><div id=\"sk-2326a663-6676-46d1-b1c3-3701cba5e997\" class=\"sk-top-container\"><div class=\"sk-text-repr-fallback\"><pre>Pipeline(steps=[(&#x27;standardscaler&#x27;, StandardScaler()),\n",
              "                (&#x27;linearregression&#x27;, LinearRegression())])</pre><b>Please rerun this cell to show the HTML repr or trust the notebook.</b></div><div class=\"sk-container\" hidden><div class=\"sk-item sk-dashed-wrapped\"><div class=\"sk-label-container\"><div class=\"sk-label sk-toggleable\"><input class=\"sk-toggleable__control sk-hidden--visually\" id=\"a1a18e6c-6127-4a57-ba7a-b8da11b66529\" type=\"checkbox\" ><label for=\"a1a18e6c-6127-4a57-ba7a-b8da11b66529\" class=\"sk-toggleable__label sk-toggleable__label-arrow\">Pipeline</label><div class=\"sk-toggleable__content\"><pre>Pipeline(steps=[(&#x27;standardscaler&#x27;, StandardScaler()),\n",
              "                (&#x27;linearregression&#x27;, LinearRegression())])</pre></div></div></div><div class=\"sk-serial\"><div class=\"sk-item\"><div class=\"sk-estimator sk-toggleable\"><input class=\"sk-toggleable__control sk-hidden--visually\" id=\"b572ea99-3a2c-4173-b532-94dc3f8e7c96\" type=\"checkbox\" ><label for=\"b572ea99-3a2c-4173-b532-94dc3f8e7c96\" class=\"sk-toggleable__label sk-toggleable__label-arrow\">StandardScaler</label><div class=\"sk-toggleable__content\"><pre>StandardScaler()</pre></div></div></div><div class=\"sk-item\"><div class=\"sk-estimator sk-toggleable\"><input class=\"sk-toggleable__control sk-hidden--visually\" id=\"3cc8b2a6-9b0c-4f87-8b97-d03c25fd02ff\" type=\"checkbox\" ><label for=\"3cc8b2a6-9b0c-4f87-8b97-d03c25fd02ff\" class=\"sk-toggleable__label sk-toggleable__label-arrow\">LinearRegression</label><div class=\"sk-toggleable__content\"><pre>LinearRegression()</pre></div></div></div></div></div></div></div>"
            ]
          },
          "metadata": {},
          "execution_count": 28
        }
      ]
    },
    {
      "cell_type": "code",
      "source": [
        "train_pred = reg_pipe.predict(X_train_processed)\n",
        "test_pred = reg_pipe.predict(X_test_processed)"
      ],
      "metadata": {
        "id": "4NHU_Yk4NVhJ"
      },
      "execution_count": 32,
      "outputs": []
    },
    {
      "cell_type": "code",
      "source": [
        "#creating function to easily check all error values\n",
        "def eval_regression(y_true, y_pred):\n",
        "  mae = mean_absolute_error(y_true, y_pred)\n",
        "  mse = mean_squared_error(y_true, y_pred)\n",
        "  rmse = np.sqrt(mse)\n",
        "  r2 = r2_score(y_true, y_pred)\n",
        "\n",
        "  print(f'MAE {mae},\\n MSE {mse},\\n RMSE: {rmse},\\n R^2: {r2} ')"
      ],
      "metadata": {
        "id": "wRtzMQM6NvQv"
      },
      "execution_count": 63,
      "outputs": []
    },
    {
      "cell_type": "code",
      "source": [
        "eval_regression(y_train, train_pred)"
      ],
      "metadata": {
        "colab": {
          "base_uri": "https://localhost:8080/"
        },
        "id": "9ER-eauMPUb0",
        "outputId": "867a451b-d2ac-4775-b018-0041dbb0b864"
      },
      "execution_count": 64,
      "outputs": [
        {
          "output_type": "stream",
          "name": "stdout",
          "text": [
            "MAE 847.5155601831553,\n",
            " MSE 1298706.3133285826,\n",
            " RMSE: 1139.6079647530473,\n",
            " R^2: 0.5611671729561014 \n"
          ]
        }
      ]
    },
    {
      "cell_type": "code",
      "source": [
        "eval_regression(y_test, test_pred)"
      ],
      "metadata": {
        "colab": {
          "base_uri": "https://localhost:8080/"
        },
        "id": "_UDBAEY9Qv0x",
        "outputId": "463962b3-d1e0-4226-fbe1-48bf2b5909d5"
      },
      "execution_count": 65,
      "outputs": [
        {
          "output_type": "stream",
          "name": "stdout",
          "text": [
            "MAE 804.2622015721729,\n",
            " MSE 1194483.0430061328,\n",
            " RMSE: 1092.924079250765,\n",
            " R^2: 0.567055862226496 \n"
          ]
        }
      ]
    },
    {
      "cell_type": "markdown",
      "source": [
        "We have all our error values, but we're focusing on the r^2 and rmse values. The rmse value shows us that our model is making an average error of 1,139 on the training data and 1,092 on our testing data. Our r^2 shows both train and test data have ~56% variation accuracy."
      ],
      "metadata": {
        "id": "sqUcEEVPPgr8"
      }
    },
    {
      "cell_type": "markdown",
      "source": [
        "##Regression Tree"
      ],
      "metadata": {
        "id": "3yklNaBxbq1v"
      }
    },
    {
      "cell_type": "code",
      "source": [
        "from sklearn.tree import DecisionTreeRegressor"
      ],
      "metadata": {
        "id": "VypsxwDibpkf"
      },
      "execution_count": 39,
      "outputs": []
    },
    {
      "cell_type": "code",
      "source": [
        "dec_tree = DecisionTreeRegressor(random_state = 42)"
      ],
      "metadata": {
        "id": "Xd_eLhqVcIjW"
      },
      "execution_count": 41,
      "outputs": []
    },
    {
      "cell_type": "code",
      "source": [
        "dec_tree.fit(X_train_processed, y_train)"
      ],
      "metadata": {
        "colab": {
          "base_uri": "https://localhost:8080/",
          "height": 76
        },
        "id": "52Tv0CVwcTWd",
        "outputId": "9bc358d0-f035-49b0-cf83-f262072bf520"
      },
      "execution_count": 43,
      "outputs": [
        {
          "output_type": "execute_result",
          "data": {
            "text/plain": [
              "DecisionTreeRegressor(random_state=42)"
            ],
            "text/html": [
              "<style>#sk-902677e0-1148-45d8-9ef3-97859838558c {color: black;background-color: white;}#sk-902677e0-1148-45d8-9ef3-97859838558c pre{padding: 0;}#sk-902677e0-1148-45d8-9ef3-97859838558c div.sk-toggleable {background-color: white;}#sk-902677e0-1148-45d8-9ef3-97859838558c label.sk-toggleable__label {cursor: pointer;display: block;width: 100%;margin-bottom: 0;padding: 0.3em;box-sizing: border-box;text-align: center;}#sk-902677e0-1148-45d8-9ef3-97859838558c label.sk-toggleable__label-arrow:before {content: \"▸\";float: left;margin-right: 0.25em;color: #696969;}#sk-902677e0-1148-45d8-9ef3-97859838558c label.sk-toggleable__label-arrow:hover:before {color: black;}#sk-902677e0-1148-45d8-9ef3-97859838558c div.sk-estimator:hover label.sk-toggleable__label-arrow:before {color: black;}#sk-902677e0-1148-45d8-9ef3-97859838558c div.sk-toggleable__content {max-height: 0;max-width: 0;overflow: hidden;text-align: left;background-color: #f0f8ff;}#sk-902677e0-1148-45d8-9ef3-97859838558c div.sk-toggleable__content pre {margin: 0.2em;color: black;border-radius: 0.25em;background-color: #f0f8ff;}#sk-902677e0-1148-45d8-9ef3-97859838558c input.sk-toggleable__control:checked~div.sk-toggleable__content {max-height: 200px;max-width: 100%;overflow: auto;}#sk-902677e0-1148-45d8-9ef3-97859838558c input.sk-toggleable__control:checked~label.sk-toggleable__label-arrow:before {content: \"▾\";}#sk-902677e0-1148-45d8-9ef3-97859838558c div.sk-estimator input.sk-toggleable__control:checked~label.sk-toggleable__label {background-color: #d4ebff;}#sk-902677e0-1148-45d8-9ef3-97859838558c div.sk-label input.sk-toggleable__control:checked~label.sk-toggleable__label {background-color: #d4ebff;}#sk-902677e0-1148-45d8-9ef3-97859838558c input.sk-hidden--visually {border: 0;clip: rect(1px 1px 1px 1px);clip: rect(1px, 1px, 1px, 1px);height: 1px;margin: -1px;overflow: hidden;padding: 0;position: absolute;width: 1px;}#sk-902677e0-1148-45d8-9ef3-97859838558c div.sk-estimator {font-family: monospace;background-color: #f0f8ff;border: 1px dotted black;border-radius: 0.25em;box-sizing: border-box;margin-bottom: 0.5em;}#sk-902677e0-1148-45d8-9ef3-97859838558c div.sk-estimator:hover {background-color: #d4ebff;}#sk-902677e0-1148-45d8-9ef3-97859838558c div.sk-parallel-item::after {content: \"\";width: 100%;border-bottom: 1px solid gray;flex-grow: 1;}#sk-902677e0-1148-45d8-9ef3-97859838558c div.sk-label:hover label.sk-toggleable__label {background-color: #d4ebff;}#sk-902677e0-1148-45d8-9ef3-97859838558c div.sk-serial::before {content: \"\";position: absolute;border-left: 1px solid gray;box-sizing: border-box;top: 2em;bottom: 0;left: 50%;}#sk-902677e0-1148-45d8-9ef3-97859838558c div.sk-serial {display: flex;flex-direction: column;align-items: center;background-color: white;padding-right: 0.2em;padding-left: 0.2em;}#sk-902677e0-1148-45d8-9ef3-97859838558c div.sk-item {z-index: 1;}#sk-902677e0-1148-45d8-9ef3-97859838558c div.sk-parallel {display: flex;align-items: stretch;justify-content: center;background-color: white;}#sk-902677e0-1148-45d8-9ef3-97859838558c div.sk-parallel::before {content: \"\";position: absolute;border-left: 1px solid gray;box-sizing: border-box;top: 2em;bottom: 0;left: 50%;}#sk-902677e0-1148-45d8-9ef3-97859838558c div.sk-parallel-item {display: flex;flex-direction: column;position: relative;background-color: white;}#sk-902677e0-1148-45d8-9ef3-97859838558c div.sk-parallel-item:first-child::after {align-self: flex-end;width: 50%;}#sk-902677e0-1148-45d8-9ef3-97859838558c div.sk-parallel-item:last-child::after {align-self: flex-start;width: 50%;}#sk-902677e0-1148-45d8-9ef3-97859838558c div.sk-parallel-item:only-child::after {width: 0;}#sk-902677e0-1148-45d8-9ef3-97859838558c div.sk-dashed-wrapped {border: 1px dashed gray;margin: 0 0.4em 0.5em 0.4em;box-sizing: border-box;padding-bottom: 0.4em;background-color: white;position: relative;}#sk-902677e0-1148-45d8-9ef3-97859838558c div.sk-label label {font-family: monospace;font-weight: bold;background-color: white;display: inline-block;line-height: 1.2em;}#sk-902677e0-1148-45d8-9ef3-97859838558c div.sk-label-container {position: relative;z-index: 2;text-align: center;}#sk-902677e0-1148-45d8-9ef3-97859838558c div.sk-container {/* jupyter's `normalize.less` sets `[hidden] { display: none; }` but bootstrap.min.css set `[hidden] { display: none !important; }` so we also need the `!important` here to be able to override the default hidden behavior on the sphinx rendered scikit-learn.org. See: https://github.com/scikit-learn/scikit-learn/issues/21755 */display: inline-block !important;position: relative;}#sk-902677e0-1148-45d8-9ef3-97859838558c div.sk-text-repr-fallback {display: none;}</style><div id=\"sk-902677e0-1148-45d8-9ef3-97859838558c\" class=\"sk-top-container\"><div class=\"sk-text-repr-fallback\"><pre>DecisionTreeRegressor(random_state=42)</pre><b>Please rerun this cell to show the HTML repr or trust the notebook.</b></div><div class=\"sk-container\" hidden><div class=\"sk-item\"><div class=\"sk-estimator sk-toggleable\"><input class=\"sk-toggleable__control sk-hidden--visually\" id=\"6a668213-4ee8-4c60-af93-d67206bd8821\" type=\"checkbox\" checked><label for=\"6a668213-4ee8-4c60-af93-d67206bd8821\" class=\"sk-toggleable__label sk-toggleable__label-arrow\">DecisionTreeRegressor</label><div class=\"sk-toggleable__content\"><pre>DecisionTreeRegressor(random_state=42)</pre></div></div></div></div></div>"
            ]
          },
          "metadata": {},
          "execution_count": 43
        }
      ]
    },
    {
      "cell_type": "code",
      "source": [
        "dec_trains_preds = dec_tree.predict(X_train_processed)\n",
        "dec_test_preds = dec_tree.predict(X_test_processed)"
      ],
      "metadata": {
        "id": "6F3zR8kocfMP"
      },
      "execution_count": 68,
      "outputs": []
    },
    {
      "cell_type": "code",
      "source": [
        "dec_train_score = dec_tree.score(X_train_processed, y_train)\n",
        "dec_test_score = dec_tree.score(X_test_processed, y_test)\n",
        "print(dec_train_score)\n",
        "print(dec_test_score)"
      ],
      "metadata": {
        "colab": {
          "base_uri": "https://localhost:8080/"
        },
        "id": "CLvz4JT8c2eo",
        "outputId": "4977239c-9238-4c03-cc0b-a0f47d8e227c"
      },
      "execution_count": 45,
      "outputs": [
        {
          "output_type": "stream",
          "name": "stdout",
          "text": [
            "1.0\n",
            "0.2139336336340717\n"
          ]
        }
      ]
    },
    {
      "cell_type": "markdown",
      "source": [
        "The train score being 1 and being drastically different from the test score tells us that our model is overfitting. We'll need to make some adjustments"
      ],
      "metadata": {
        "id": "nOqCgkWxhDl6"
      }
    },
    {
      "cell_type": "code",
      "source": [
        "#finding what params we can adjust\n",
        "dec_tree.get_params()"
      ],
      "metadata": {
        "colab": {
          "base_uri": "https://localhost:8080/"
        },
        "id": "EUBmAaFqdS69",
        "outputId": "7f9ca228-fd42-45fe-ab58-80c43c389956"
      },
      "execution_count": 46,
      "outputs": [
        {
          "output_type": "execute_result",
          "data": {
            "text/plain": [
              "{'ccp_alpha': 0.0,\n",
              " 'criterion': 'squared_error',\n",
              " 'max_depth': None,\n",
              " 'max_features': None,\n",
              " 'max_leaf_nodes': None,\n",
              " 'min_impurity_decrease': 0.0,\n",
              " 'min_samples_leaf': 1,\n",
              " 'min_samples_split': 2,\n",
              " 'min_weight_fraction_leaf': 0.0,\n",
              " 'random_state': 42,\n",
              " 'splitter': 'best'}"
            ]
          },
          "metadata": {},
          "execution_count": 46
        }
      ]
    },
    {
      "cell_type": "code",
      "source": [
        "dec_tree.get_depth()"
      ],
      "metadata": {
        "colab": {
          "base_uri": "https://localhost:8080/"
        },
        "id": "IkzHEFIshmet",
        "outputId": "f28a7bf6-2ebb-403c-a885-86062ac075e3"
      },
      "execution_count": 47,
      "outputs": [
        {
          "output_type": "execute_result",
          "data": {
            "text/plain": [
              "39"
            ]
          },
          "metadata": {},
          "execution_count": 47
        }
      ]
    },
    {
      "cell_type": "code",
      "source": [
        "#creating a loop to easily find where depth has the highest accuracy\n",
        "depths = list(range(2, 39))\n",
        "scores = pd.DataFrame(index=depths, columns=['Test Score', 'Train Score'])\n",
        "for depth in depths:\n",
        "    dec_tree = DecisionTreeRegressor(max_depth=depth, random_state=42)\n",
        "    dec_tree.fit(X_train_processed, y_train)\n",
        "    dec_train_score = dec_tree.score(X_train_processed, y_train)\n",
        "    dec_test_score = dec_tree.score(X_test_processed, y_test)\n",
        "    scores.loc[depth, 'Train Score'] = dec_train_score\n",
        "    scores.loc[depth, 'Test Score'] = dec_test_score"
      ],
      "metadata": {
        "id": "ZcwygHAohz53"
      },
      "execution_count": 58,
      "outputs": []
    },
    {
      "cell_type": "code",
      "source": [
        "#finding exactly where our accuracy is highest\n",
        "sorted_scores = scores.sort_values(by='Test Score', ascending=False)\n",
        "sorted_scores.head()"
      ],
      "metadata": {
        "colab": {
          "base_uri": "https://localhost:8080/",
          "height": 206
        },
        "id": "PjIr23Fyh9bl",
        "outputId": "e452448d-8a7e-401b-d077-10c31f87d235"
      },
      "execution_count": 56,
      "outputs": [
        {
          "output_type": "execute_result",
          "data": {
            "text/plain": [
              "  Test Score Train Score\n",
              "5   0.594747    0.603925\n",
              "4   0.584005    0.582625\n",
              "6   0.583674    0.614877\n",
              "7   0.578045    0.625969\n",
              "8   0.559352    0.641612"
            ],
            "text/html": [
              "\n",
              "  <div id=\"df-6616dc57-548c-4187-b3b1-9c8a497f87ce\">\n",
              "    <div class=\"colab-df-container\">\n",
              "      <div>\n",
              "<style scoped>\n",
              "    .dataframe tbody tr th:only-of-type {\n",
              "        vertical-align: middle;\n",
              "    }\n",
              "\n",
              "    .dataframe tbody tr th {\n",
              "        vertical-align: top;\n",
              "    }\n",
              "\n",
              "    .dataframe thead th {\n",
              "        text-align: right;\n",
              "    }\n",
              "</style>\n",
              "<table border=\"1\" class=\"dataframe\">\n",
              "  <thead>\n",
              "    <tr style=\"text-align: right;\">\n",
              "      <th></th>\n",
              "      <th>Test Score</th>\n",
              "      <th>Train Score</th>\n",
              "    </tr>\n",
              "  </thead>\n",
              "  <tbody>\n",
              "    <tr>\n",
              "      <th>5</th>\n",
              "      <td>0.594747</td>\n",
              "      <td>0.603925</td>\n",
              "    </tr>\n",
              "    <tr>\n",
              "      <th>4</th>\n",
              "      <td>0.584005</td>\n",
              "      <td>0.582625</td>\n",
              "    </tr>\n",
              "    <tr>\n",
              "      <th>6</th>\n",
              "      <td>0.583674</td>\n",
              "      <td>0.614877</td>\n",
              "    </tr>\n",
              "    <tr>\n",
              "      <th>7</th>\n",
              "      <td>0.578045</td>\n",
              "      <td>0.625969</td>\n",
              "    </tr>\n",
              "    <tr>\n",
              "      <th>8</th>\n",
              "      <td>0.559352</td>\n",
              "      <td>0.641612</td>\n",
              "    </tr>\n",
              "  </tbody>\n",
              "</table>\n",
              "</div>\n",
              "      <button class=\"colab-df-convert\" onclick=\"convertToInteractive('df-6616dc57-548c-4187-b3b1-9c8a497f87ce')\"\n",
              "              title=\"Convert this dataframe to an interactive table.\"\n",
              "              style=\"display:none;\">\n",
              "        \n",
              "  <svg xmlns=\"http://www.w3.org/2000/svg\" height=\"24px\"viewBox=\"0 0 24 24\"\n",
              "       width=\"24px\">\n",
              "    <path d=\"M0 0h24v24H0V0z\" fill=\"none\"/>\n",
              "    <path d=\"M18.56 5.44l.94 2.06.94-2.06 2.06-.94-2.06-.94-.94-2.06-.94 2.06-2.06.94zm-11 1L8.5 8.5l.94-2.06 2.06-.94-2.06-.94L8.5 2.5l-.94 2.06-2.06.94zm10 10l.94 2.06.94-2.06 2.06-.94-2.06-.94-.94-2.06-.94 2.06-2.06.94z\"/><path d=\"M17.41 7.96l-1.37-1.37c-.4-.4-.92-.59-1.43-.59-.52 0-1.04.2-1.43.59L10.3 9.45l-7.72 7.72c-.78.78-.78 2.05 0 2.83L4 21.41c.39.39.9.59 1.41.59.51 0 1.02-.2 1.41-.59l7.78-7.78 2.81-2.81c.8-.78.8-2.07 0-2.86zM5.41 20L4 18.59l7.72-7.72 1.47 1.35L5.41 20z\"/>\n",
              "  </svg>\n",
              "      </button>\n",
              "      \n",
              "  <style>\n",
              "    .colab-df-container {\n",
              "      display:flex;\n",
              "      flex-wrap:wrap;\n",
              "      gap: 12px;\n",
              "    }\n",
              "\n",
              "    .colab-df-convert {\n",
              "      background-color: #E8F0FE;\n",
              "      border: none;\n",
              "      border-radius: 50%;\n",
              "      cursor: pointer;\n",
              "      display: none;\n",
              "      fill: #1967D2;\n",
              "      height: 32px;\n",
              "      padding: 0 0 0 0;\n",
              "      width: 32px;\n",
              "    }\n",
              "\n",
              "    .colab-df-convert:hover {\n",
              "      background-color: #E2EBFA;\n",
              "      box-shadow: 0px 1px 2px rgba(60, 64, 67, 0.3), 0px 1px 3px 1px rgba(60, 64, 67, 0.15);\n",
              "      fill: #174EA6;\n",
              "    }\n",
              "\n",
              "    [theme=dark] .colab-df-convert {\n",
              "      background-color: #3B4455;\n",
              "      fill: #D2E3FC;\n",
              "    }\n",
              "\n",
              "    [theme=dark] .colab-df-convert:hover {\n",
              "      background-color: #434B5C;\n",
              "      box-shadow: 0px 1px 3px 1px rgba(0, 0, 0, 0.15);\n",
              "      filter: drop-shadow(0px 1px 2px rgba(0, 0, 0, 0.3));\n",
              "      fill: #FFFFFF;\n",
              "    }\n",
              "  </style>\n",
              "\n",
              "      <script>\n",
              "        const buttonEl =\n",
              "          document.querySelector('#df-6616dc57-548c-4187-b3b1-9c8a497f87ce button.colab-df-convert');\n",
              "        buttonEl.style.display =\n",
              "          google.colab.kernel.accessAllowed ? 'block' : 'none';\n",
              "\n",
              "        async function convertToInteractive(key) {\n",
              "          const element = document.querySelector('#df-6616dc57-548c-4187-b3b1-9c8a497f87ce');\n",
              "          const dataTable =\n",
              "            await google.colab.kernel.invokeFunction('convertToInteractive',\n",
              "                                                     [key], {});\n",
              "          if (!dataTable) return;\n",
              "\n",
              "          const docLinkHtml = 'Like what you see? Visit the ' +\n",
              "            '<a target=\"_blank\" href=https://colab.research.google.com/notebooks/data_table.ipynb>data table notebook</a>'\n",
              "            + ' to learn more about interactive tables.';\n",
              "          element.innerHTML = '';\n",
              "          dataTable['output_type'] = 'display_data';\n",
              "          await google.colab.output.renderOutput(dataTable, element);\n",
              "          const docLink = document.createElement('div');\n",
              "          docLink.innerHTML = docLinkHtml;\n",
              "          element.appendChild(docLink);\n",
              "        }\n",
              "      </script>\n",
              "    </div>\n",
              "  </div>\n",
              "  "
            ]
          },
          "metadata": {},
          "execution_count": 56
        }
      ]
    },
    {
      "cell_type": "code",
      "source": [
        "plt.show"
      ],
      "metadata": {
        "id": "6TPqItYaswYe"
      },
      "execution_count": null,
      "outputs": []
    },
    {
      "cell_type": "code",
      "source": [
        "#fitting the model on our data at depth 5\n",
        "dec_tree_5 = DecisionTreeRegressor(max_depth = 5, random_state=42)\n",
        "dec_tree_5.fit(X_train_processed, y_train)\n",
        "train_5_score = dec_tree_5.score(X_train_processed, y_train)\n",
        "test_5_score = dec_tree_5.score(X_test_processed, y_test)\n",
        "print(train_5_score)\n",
        "print(test_5_score)"
      ],
      "metadata": {
        "colab": {
          "base_uri": "https://localhost:8080/"
        },
        "id": "GW-rAa2ej7EM",
        "outputId": "6205e3d3-2d92-469a-c24a-c7417c545978"
      },
      "execution_count": 59,
      "outputs": [
        {
          "output_type": "stream",
          "name": "stdout",
          "text": [
            "0.6039254897160836\n",
            "0.5947470502499344\n"
          ]
        }
      ]
    },
    {
      "cell_type": "code",
      "source": [
        "eval_regression(y_train, dec_trains_preds)"
      ],
      "metadata": {
        "colab": {
          "base_uri": "https://localhost:8080/"
        },
        "id": "08Omf9tdtsue",
        "outputId": "0decb406-c708-4e70-9e04-4ef9c8fffa55"
      },
      "execution_count": 69,
      "outputs": [
        {
          "output_type": "stream",
          "name": "stdout",
          "text": [
            "MAE 0.0019790675844806073,\n",
            " MSE 0.012517800378598327,\n",
            " RMSE: 0.11188297626805575,\n",
            " R^2: 0.9999999957702356 \n"
          ]
        }
      ]
    },
    {
      "cell_type": "code",
      "source": [
        "eval_regression(y_test, dec_test_preds)"
      ],
      "metadata": {
        "colab": {
          "base_uri": "https://localhost:8080/"
        },
        "id": "OwESq-cBuLDb",
        "outputId": "989a6916-2522-469c-cf4c-5f99477285f9"
      },
      "execution_count": 70,
      "outputs": [
        {
          "output_type": "stream",
          "name": "stdout",
          "text": [
            "MAE 1045.5214242609104,\n",
            " MSE 2257321.0437885625,\n",
            " RMSE: 1502.4383660531844,\n",
            " R^2: 0.18182688427163574 \n"
          ]
        }
      ]
    },
    {
      "cell_type": "markdown",
      "source": [
        "Our RMSE score on our testing model for our linear regression and decision tree match closely. The training RMSE score is greatly different, as is the R^2 score which shows overfitting. Between these two models, the linear regression shows numbers that match closer and have an R^2 score of 56% which is greater than the testing model for decision tree at only 18% variance. "
      ],
      "metadata": {
        "id": "EIu4xF_DrRaX"
      }
    },
    {
      "cell_type": "markdown",
      "source": [
        "After seeing the different results, linear regression shows more consistent variance and can account for 56% of the variance. The RMSE scores match showing both models have the same erorrs. For these reason, I would use the linear regression model to predict sales. "
      ],
      "metadata": {
        "id": "-dhtSbyPvPbw"
      }
    }
  ]
}